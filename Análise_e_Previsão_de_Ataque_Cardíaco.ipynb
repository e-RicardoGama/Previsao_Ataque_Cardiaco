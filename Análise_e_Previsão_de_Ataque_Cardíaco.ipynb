{
  "cells": [
    {
      "cell_type": "markdown",
      "metadata": {
        "id": "gn0RGAP6G2K4"
      },
      "source": [
        "### Análise e Previsão de Ataque Cardíaco"
      ]
    },
    {
      "cell_type": "markdown",
      "source": [
        "![coração.jpg](data:image/jpeg;base64,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)"
      ],
      "metadata": {
        "id": "JmgpLVTu23-u"
      }
    },
    {
      "cell_type": "markdown",
      "metadata": {
        "id": "eBarb7jRHEp0"
      },
      "source": [
        "Descrição de dados :\n",
        "\n",
        "Idade: idade do paciente [anos] \n",
        "\n",
        "Sexo: sexo do paciente [M: Masculino, F: Feminino] \n",
        "\n",
        "ChestPainType: tipo de dor no peito \n",
        "\n",
        "  - TA: Angina Típica, \n",
        "  - ATA: Angina Atípica, \n",
        "  - NAP: Dor Não Anginosa, \n",
        "  - ASY: Assintomático\n",
        "  \n",
        "PA em repouso: pressão arterial em repouso [mm Hg] \n",
        "\n",
        "Colesterol: colesterol sérico [mm/dl] \n",
        "\n",
        "Em jejum: glicemia em jejum \n",
        "  - 1: se em jejumBS > 120 mg/dl, \n",
        "  - 0: caso contrário \n",
        "\n",
        "ECG em repouso: resultados do eletrocardiograma em repouso \n",
        "\n",
        "  - Normal : Normal, \n",
        "  - ST: com anormalidade da onda \n",
        "  - ST-T (inversões da onda T e/ou elevação ou depressão de ST > 0,05 mV), \n",
        "  - HVE: mostrando provável ou definitiva hipertrofia ventricular esquerda pelos critérios de Estes\n",
        "  \n",
        "MaxHR: frequência cardíaca máxima alcançada [Numeric valor entre 60 e 202] \n",
        "\n",
        "ExerciseAngina: angina induzida pelo exercício [Y: Sim, N: No] \n",
        "\n",
        "Oldpeak: pico antigo = ST [Valor numérico medido em depressão] \n",
        "\n",
        "ST_Slope: a inclinação do pico do exercício segmento ST \n",
        "  - Up: ascendente, \n",
        "  - Flat: flat, \n",
        "  - Down: descendo \n",
        "  \n",
        "HeartDisease: classe de saída \n",
        "  - 1: doença cardíaca,\n",
        "  - 0: Normal\n",
        "\n",
        "As doenças cardiovasculares (DCVs) são a causa número 1 de morte em todo o mundo, levando cerca de 17,9 milhões de vidas a cada ano, o que representa 31% de todas as mortes em todo o mundo. Quatro das mortes por 5CVD são devido a ataques cardíacos e derrames, e um terço dessas mortes ocorre prematuramente em pessoas com menos de 70 anos de idade. A insuficiência cardíaca é um evento comum causado por DCV e este conjunto de dados contém 11 características que podem ser usadas para prever uma possível doença cardíaca. Pessoas com doença cardiovascular ou com alto risco cardiovascular (devido à presença de um ou mais fatores de risco, como hipertensão, diabetes, hiperlipidemia ou doença já estabelecida) precisam de detecção e gerenciamento precoces, onde um modelo de aprendizado de máquina pode ser de grande ajuda."
      ]
    },
    {
      "cell_type": "markdown",
      "metadata": {
        "id": "gfhz_VyHHvxe"
      },
      "source": [
        "### Importando bibliotecas"
      ]
    },
    {
      "cell_type": "code",
      "execution_count": null,
      "metadata": {
        "id": "pfYqteuYGo8P"
      },
      "outputs": [],
      "source": [
        "import pandas as pd\n",
        "import numpy as np\n",
        "from matplotlib import pyplot as plt\n",
        "import seaborn as sns"
      ]
    },
    {
      "cell_type": "markdown",
      "metadata": {
        "id": "DkIQHfCSH5CQ"
      },
      "source": [
        "### Verficando os dados"
      ]
    },
    {
      "cell_type": "code",
      "execution_count": null,
      "metadata": {
        "colab": {
          "base_uri": "https://localhost:8080/",
          "height": 424
        },
        "id": "RNgdd3pdH0av",
        "outputId": "5043ef92-c292-49cc-88da-0217762a25c8"
      },
      "outputs": [
        {
          "output_type": "execute_result",
          "data": {
            "text/plain": [
              "     Age Sex ChestPainType  RestingBP  Cholesterol  FastingBS RestingECG  \\\n",
              "0     40   M           ATA        140          289          0     Normal   \n",
              "1     49   F           NAP        160          180          0     Normal   \n",
              "2     37   M           ATA        130          283          0         ST   \n",
              "3     48   F           ASY        138          214          0     Normal   \n",
              "4     54   M           NAP        150          195          0     Normal   \n",
              "..   ...  ..           ...        ...          ...        ...        ...   \n",
              "913   45   M            TA        110          264          0     Normal   \n",
              "914   68   M           ASY        144          193          1     Normal   \n",
              "915   57   M           ASY        130          131          0     Normal   \n",
              "916   57   F           ATA        130          236          0        LVH   \n",
              "917   38   M           NAP        138          175          0     Normal   \n",
              "\n",
              "     MaxHR ExerciseAngina  Oldpeak ST_Slope  HeartDisease  \n",
              "0      172              N      0.0       Up             0  \n",
              "1      156              N      1.0     Flat             1  \n",
              "2       98              N      0.0       Up             0  \n",
              "3      108              Y      1.5     Flat             1  \n",
              "4      122              N      0.0       Up             0  \n",
              "..     ...            ...      ...      ...           ...  \n",
              "913    132              N      1.2     Flat             1  \n",
              "914    141              N      3.4     Flat             1  \n",
              "915    115              Y      1.2     Flat             1  \n",
              "916    174              N      0.0     Flat             1  \n",
              "917    173              N      0.0       Up             0  \n",
              "\n",
              "[918 rows x 12 columns]"
            ],
            "text/html": [
              "\n",
              "  <div id=\"df-30bd5657-f975-4826-85cd-95553e55ee05\">\n",
              "    <div class=\"colab-df-container\">\n",
              "      <div>\n",
              "<style scoped>\n",
              "    .dataframe tbody tr th:only-of-type {\n",
              "        vertical-align: middle;\n",
              "    }\n",
              "\n",
              "    .dataframe tbody tr th {\n",
              "        vertical-align: top;\n",
              "    }\n",
              "\n",
              "    .dataframe thead th {\n",
              "        text-align: right;\n",
              "    }\n",
              "</style>\n",
              "<table border=\"1\" class=\"dataframe\">\n",
              "  <thead>\n",
              "    <tr style=\"text-align: right;\">\n",
              "      <th></th>\n",
              "      <th>Age</th>\n",
              "      <th>Sex</th>\n",
              "      <th>ChestPainType</th>\n",
              "      <th>RestingBP</th>\n",
              "      <th>Cholesterol</th>\n",
              "      <th>FastingBS</th>\n",
              "      <th>RestingECG</th>\n",
              "      <th>MaxHR</th>\n",
              "      <th>ExerciseAngina</th>\n",
              "      <th>Oldpeak</th>\n",
              "      <th>ST_Slope</th>\n",
              "      <th>HeartDisease</th>\n",
              "    </tr>\n",
              "  </thead>\n",
              "  <tbody>\n",
              "    <tr>\n",
              "      <th>0</th>\n",
              "      <td>40</td>\n",
              "      <td>M</td>\n",
              "      <td>ATA</td>\n",
              "      <td>140</td>\n",
              "      <td>289</td>\n",
              "      <td>0</td>\n",
              "      <td>Normal</td>\n",
              "      <td>172</td>\n",
              "      <td>N</td>\n",
              "      <td>0.0</td>\n",
              "      <td>Up</td>\n",
              "      <td>0</td>\n",
              "    </tr>\n",
              "    <tr>\n",
              "      <th>1</th>\n",
              "      <td>49</td>\n",
              "      <td>F</td>\n",
              "      <td>NAP</td>\n",
              "      <td>160</td>\n",
              "      <td>180</td>\n",
              "      <td>0</td>\n",
              "      <td>Normal</td>\n",
              "      <td>156</td>\n",
              "      <td>N</td>\n",
              "      <td>1.0</td>\n",
              "      <td>Flat</td>\n",
              "      <td>1</td>\n",
              "    </tr>\n",
              "    <tr>\n",
              "      <th>2</th>\n",
              "      <td>37</td>\n",
              "      <td>M</td>\n",
              "      <td>ATA</td>\n",
              "      <td>130</td>\n",
              "      <td>283</td>\n",
              "      <td>0</td>\n",
              "      <td>ST</td>\n",
              "      <td>98</td>\n",
              "      <td>N</td>\n",
              "      <td>0.0</td>\n",
              "      <td>Up</td>\n",
              "      <td>0</td>\n",
              "    </tr>\n",
              "    <tr>\n",
              "      <th>3</th>\n",
              "      <td>48</td>\n",
              "      <td>F</td>\n",
              "      <td>ASY</td>\n",
              "      <td>138</td>\n",
              "      <td>214</td>\n",
              "      <td>0</td>\n",
              "      <td>Normal</td>\n",
              "      <td>108</td>\n",
              "      <td>Y</td>\n",
              "      <td>1.5</td>\n",
              "      <td>Flat</td>\n",
              "      <td>1</td>\n",
              "    </tr>\n",
              "    <tr>\n",
              "      <th>4</th>\n",
              "      <td>54</td>\n",
              "      <td>M</td>\n",
              "      <td>NAP</td>\n",
              "      <td>150</td>\n",
              "      <td>195</td>\n",
              "      <td>0</td>\n",
              "      <td>Normal</td>\n",
              "      <td>122</td>\n",
              "      <td>N</td>\n",
              "      <td>0.0</td>\n",
              "      <td>Up</td>\n",
              "      <td>0</td>\n",
              "    </tr>\n",
              "    <tr>\n",
              "      <th>...</th>\n",
              "      <td>...</td>\n",
              "      <td>...</td>\n",
              "      <td>...</td>\n",
              "      <td>...</td>\n",
              "      <td>...</td>\n",
              "      <td>...</td>\n",
              "      <td>...</td>\n",
              "      <td>...</td>\n",
              "      <td>...</td>\n",
              "      <td>...</td>\n",
              "      <td>...</td>\n",
              "      <td>...</td>\n",
              "    </tr>\n",
              "    <tr>\n",
              "      <th>913</th>\n",
              "      <td>45</td>\n",
              "      <td>M</td>\n",
              "      <td>TA</td>\n",
              "      <td>110</td>\n",
              "      <td>264</td>\n",
              "      <td>0</td>\n",
              "      <td>Normal</td>\n",
              "      <td>132</td>\n",
              "      <td>N</td>\n",
              "      <td>1.2</td>\n",
              "      <td>Flat</td>\n",
              "      <td>1</td>\n",
              "    </tr>\n",
              "    <tr>\n",
              "      <th>914</th>\n",
              "      <td>68</td>\n",
              "      <td>M</td>\n",
              "      <td>ASY</td>\n",
              "      <td>144</td>\n",
              "      <td>193</td>\n",
              "      <td>1</td>\n",
              "      <td>Normal</td>\n",
              "      <td>141</td>\n",
              "      <td>N</td>\n",
              "      <td>3.4</td>\n",
              "      <td>Flat</td>\n",
              "      <td>1</td>\n",
              "    </tr>\n",
              "    <tr>\n",
              "      <th>915</th>\n",
              "      <td>57</td>\n",
              "      <td>M</td>\n",
              "      <td>ASY</td>\n",
              "      <td>130</td>\n",
              "      <td>131</td>\n",
              "      <td>0</td>\n",
              "      <td>Normal</td>\n",
              "      <td>115</td>\n",
              "      <td>Y</td>\n",
              "      <td>1.2</td>\n",
              "      <td>Flat</td>\n",
              "      <td>1</td>\n",
              "    </tr>\n",
              "    <tr>\n",
              "      <th>916</th>\n",
              "      <td>57</td>\n",
              "      <td>F</td>\n",
              "      <td>ATA</td>\n",
              "      <td>130</td>\n",
              "      <td>236</td>\n",
              "      <td>0</td>\n",
              "      <td>LVH</td>\n",
              "      <td>174</td>\n",
              "      <td>N</td>\n",
              "      <td>0.0</td>\n",
              "      <td>Flat</td>\n",
              "      <td>1</td>\n",
              "    </tr>\n",
              "    <tr>\n",
              "      <th>917</th>\n",
              "      <td>38</td>\n",
              "      <td>M</td>\n",
              "      <td>NAP</td>\n",
              "      <td>138</td>\n",
              "      <td>175</td>\n",
              "      <td>0</td>\n",
              "      <td>Normal</td>\n",
              "      <td>173</td>\n",
              "      <td>N</td>\n",
              "      <td>0.0</td>\n",
              "      <td>Up</td>\n",
              "      <td>0</td>\n",
              "    </tr>\n",
              "  </tbody>\n",
              "</table>\n",
              "<p>918 rows × 12 columns</p>\n",
              "</div>\n",
              "      <button class=\"colab-df-convert\" onclick=\"convertToInteractive('df-30bd5657-f975-4826-85cd-95553e55ee05')\"\n",
              "              title=\"Convert this dataframe to an interactive table.\"\n",
              "              style=\"display:none;\">\n",
              "        \n",
              "  <svg xmlns=\"http://www.w3.org/2000/svg\" height=\"24px\"viewBox=\"0 0 24 24\"\n",
              "       width=\"24px\">\n",
              "    <path d=\"M0 0h24v24H0V0z\" fill=\"none\"/>\n",
              "    <path d=\"M18.56 5.44l.94 2.06.94-2.06 2.06-.94-2.06-.94-.94-2.06-.94 2.06-2.06.94zm-11 1L8.5 8.5l.94-2.06 2.06-.94-2.06-.94L8.5 2.5l-.94 2.06-2.06.94zm10 10l.94 2.06.94-2.06 2.06-.94-2.06-.94-.94-2.06-.94 2.06-2.06.94z\"/><path d=\"M17.41 7.96l-1.37-1.37c-.4-.4-.92-.59-1.43-.59-.52 0-1.04.2-1.43.59L10.3 9.45l-7.72 7.72c-.78.78-.78 2.05 0 2.83L4 21.41c.39.39.9.59 1.41.59.51 0 1.02-.2 1.41-.59l7.78-7.78 2.81-2.81c.8-.78.8-2.07 0-2.86zM5.41 20L4 18.59l7.72-7.72 1.47 1.35L5.41 20z\"/>\n",
              "  </svg>\n",
              "      </button>\n",
              "      \n",
              "  <style>\n",
              "    .colab-df-container {\n",
              "      display:flex;\n",
              "      flex-wrap:wrap;\n",
              "      gap: 12px;\n",
              "    }\n",
              "\n",
              "    .colab-df-convert {\n",
              "      background-color: #E8F0FE;\n",
              "      border: none;\n",
              "      border-radius: 50%;\n",
              "      cursor: pointer;\n",
              "      display: none;\n",
              "      fill: #1967D2;\n",
              "      height: 32px;\n",
              "      padding: 0 0 0 0;\n",
              "      width: 32px;\n",
              "    }\n",
              "\n",
              "    .colab-df-convert:hover {\n",
              "      background-color: #E2EBFA;\n",
              "      box-shadow: 0px 1px 2px rgba(60, 64, 67, 0.3), 0px 1px 3px 1px rgba(60, 64, 67, 0.15);\n",
              "      fill: #174EA6;\n",
              "    }\n",
              "\n",
              "    [theme=dark] .colab-df-convert {\n",
              "      background-color: #3B4455;\n",
              "      fill: #D2E3FC;\n",
              "    }\n",
              "\n",
              "    [theme=dark] .colab-df-convert:hover {\n",
              "      background-color: #434B5C;\n",
              "      box-shadow: 0px 1px 3px 1px rgba(0, 0, 0, 0.15);\n",
              "      filter: drop-shadow(0px 1px 2px rgba(0, 0, 0, 0.3));\n",
              "      fill: #FFFFFF;\n",
              "    }\n",
              "  </style>\n",
              "\n",
              "      <script>\n",
              "        const buttonEl =\n",
              "          document.querySelector('#df-30bd5657-f975-4826-85cd-95553e55ee05 button.colab-df-convert');\n",
              "        buttonEl.style.display =\n",
              "          google.colab.kernel.accessAllowed ? 'block' : 'none';\n",
              "\n",
              "        async function convertToInteractive(key) {\n",
              "          const element = document.querySelector('#df-30bd5657-f975-4826-85cd-95553e55ee05');\n",
              "          const dataTable =\n",
              "            await google.colab.kernel.invokeFunction('convertToInteractive',\n",
              "                                                     [key], {});\n",
              "          if (!dataTable) return;\n",
              "\n",
              "          const docLinkHtml = 'Like what you see? Visit the ' +\n",
              "            '<a target=\"_blank\" href=https://colab.research.google.com/notebooks/data_table.ipynb>data table notebook</a>'\n",
              "            + ' to learn more about interactive tables.';\n",
              "          element.innerHTML = '';\n",
              "          dataTable['output_type'] = 'display_data';\n",
              "          await google.colab.output.renderOutput(dataTable, element);\n",
              "          const docLink = document.createElement('div');\n",
              "          docLink.innerHTML = docLinkHtml;\n",
              "          element.appendChild(docLink);\n",
              "        }\n",
              "      </script>\n",
              "    </div>\n",
              "  </div>\n",
              "  "
            ]
          },
          "metadata": {},
          "execution_count": 2
        }
      ],
      "source": [
        "df = pd.read_csv('/content/heart.csv')\n",
        "df"
      ]
    },
    {
      "cell_type": "code",
      "execution_count": null,
      "metadata": {
        "colab": {
          "base_uri": "https://localhost:8080/"
        },
        "id": "6F3jGMdrH_kP",
        "outputId": "aa488ea9-e944-4913-aa36-51a7dcb0ff77"
      },
      "outputs": [
        {
          "output_type": "stream",
          "name": "stdout",
          "text": [
            "Index(['Age', 'Sex', 'ChestPainType', 'RestingBP', 'Cholesterol', 'FastingBS',\n",
            "       'RestingECG', 'MaxHR', 'ExerciseAngina', 'Oldpeak', 'ST_Slope',\n",
            "       'HeartDisease'],\n",
            "      dtype='object')\n"
          ]
        }
      ],
      "source": [
        "print(df.columns)"
      ]
    },
    {
      "cell_type": "markdown",
      "metadata": {
        "id": "1Xg98G60IEla"
      },
      "source": [
        "Verificar valores ausentes (NaN)"
      ]
    },
    {
      "cell_type": "code",
      "execution_count": null,
      "metadata": {
        "colab": {
          "base_uri": "https://localhost:8080/"
        },
        "id": "Pxv7s4AEIEAQ",
        "outputId": "b2d7b3d2-0625-4335-c200-43899a79e4b2"
      },
      "outputs": [
        {
          "output_type": "execute_result",
          "data": {
            "text/plain": [
              "Age               0\n",
              "Sex               0\n",
              "ChestPainType     0\n",
              "RestingBP         0\n",
              "Cholesterol       0\n",
              "FastingBS         0\n",
              "RestingECG        0\n",
              "MaxHR             0\n",
              "ExerciseAngina    0\n",
              "Oldpeak           0\n",
              "ST_Slope          0\n",
              "HeartDisease      0\n",
              "dtype: int64"
            ]
          },
          "metadata": {},
          "execution_count": 4
        }
      ],
      "source": [
        "df.isnull().sum()"
      ]
    },
    {
      "cell_type": "markdown",
      "metadata": {
        "id": "mJCnVrALIM-Z"
      },
      "source": [
        "Verificar tipos de dados da cada coluna"
      ]
    },
    {
      "cell_type": "code",
      "execution_count": null,
      "metadata": {
        "colab": {
          "base_uri": "https://localhost:8080/"
        },
        "id": "_ChuDI1mIRcE",
        "outputId": "36a6bed0-8090-4875-b90e-8aec49362547"
      },
      "outputs": [
        {
          "output_type": "stream",
          "name": "stdout",
          "text": [
            "Age                 int64\n",
            "Sex                object\n",
            "ChestPainType      object\n",
            "RestingBP           int64\n",
            "Cholesterol         int64\n",
            "FastingBS           int64\n",
            "RestingECG         object\n",
            "MaxHR               int64\n",
            "ExerciseAngina     object\n",
            "Oldpeak           float64\n",
            "ST_Slope           object\n",
            "HeartDisease        int64\n",
            "dtype: object\n",
            "--------------------------\n",
            "Age                   40\n",
            "Sex                    M\n",
            "ChestPainType        ATA\n",
            "RestingBP            140\n",
            "Cholesterol          289\n",
            "FastingBS              0\n",
            "RestingECG        Normal\n",
            "MaxHR                172\n",
            "ExerciseAngina         N\n",
            "Oldpeak              0.0\n",
            "ST_Slope              Up\n",
            "HeartDisease           0\n",
            "Name: 0, dtype: object\n"
          ]
        }
      ],
      "source": [
        "print(df.dtypes)\n",
        "print('-'*26)\n",
        "print(df.iloc[0])"
      ]
    },
    {
      "cell_type": "markdown",
      "metadata": {
        "id": "ImnNlMJXIXWh"
      },
      "source": [
        "### Análise Exploratória e Tratamento de OutLiers"
      ]
    },
    {
      "cell_type": "markdown",
      "metadata": {
        "id": "GCZm1_BiIbgu"
      },
      "source": [
        "Análise Exploratória e Tratar Outliers\n",
        "- Vamos analisar as feature para:\n",
        "\n",
        "1 - Ver a correlação entre as features.\n",
        "\n",
        "2 - Excluir outliers \n",
        "\n",
        "3 - Confirmar se todas as features que temos fazem realmente sentido.\n",
        "\n",
        "- Vamos começar pelas colunas numéricas.\n",
        "\n",
        "- Em seguida, vamos avaliar as colunas de texto e definir quais categorias fazem sentido mantermos ou não."
      ]
    },
    {
      "cell_type": "code",
      "execution_count": null,
      "metadata": {
        "colab": {
          "base_uri": "https://localhost:8080/"
        },
        "id": "QGZ0Y4y0IfNp",
        "outputId": "3be56a93-38dc-42c7-c720-7fda814f77b9"
      },
      "outputs": [
        {
          "output_type": "stream",
          "name": "stdout",
          "text": [
            "                   Age  RestingBP  Cholesterol  FastingBS     MaxHR   Oldpeak  \\\n",
            "Age           1.000000   0.254399    -0.095282   0.198039 -0.382045  0.258612   \n",
            "RestingBP     0.254399   1.000000     0.100893   0.070193 -0.112135  0.164803   \n",
            "Cholesterol  -0.095282   0.100893     1.000000  -0.260974  0.235792  0.050148   \n",
            "FastingBS     0.198039   0.070193    -0.260974   1.000000 -0.131438  0.052698   \n",
            "MaxHR        -0.382045  -0.112135     0.235792  -0.131438  1.000000 -0.160691   \n",
            "Oldpeak       0.258612   0.164803     0.050148   0.052698 -0.160691  1.000000   \n",
            "HeartDisease  0.282039   0.107589    -0.232741   0.267291 -0.400421  0.403951   \n",
            "\n",
            "              HeartDisease  \n",
            "Age               0.282039  \n",
            "RestingBP         0.107589  \n",
            "Cholesterol      -0.232741  \n",
            "FastingBS         0.267291  \n",
            "MaxHR            -0.400421  \n",
            "Oldpeak           0.403951  \n",
            "HeartDisease      1.000000  \n"
          ]
        }
      ],
      "source": [
        "# Vamos analisar a correlação entre todas colunas, usando a função 'corr()'\n",
        "print(df.corr())"
      ]
    },
    {
      "cell_type": "code",
      "execution_count": null,
      "metadata": {
        "colab": {
          "base_uri": "https://localhost:8080/",
          "height": 613
        },
        "id": "-Jh3GUu7IfLo",
        "outputId": "b17b9336-cfe8-4fe3-9f84-9429e4e1f971"
      },
      "outputs": [
        {
          "output_type": "execute_result",
          "data": {
            "text/plain": [
              "<matplotlib.axes._subplots.AxesSubplot at 0x7f4c8df56e10>"
            ]
          },
          "metadata": {},
          "execution_count": 7
        },
        {
          "output_type": "display_data",
          "data": {
            "text/plain": [
              "<Figure size 1080x720 with 2 Axes>"
            ],
            "image/png": "[encoded data removed]"
          },
          "metadata": {
            "needs_background": "light"
          }
        }
      ],
      "source": [
        "# Iremos visualizar a correlação entre as colunas utilizando um 'Mapa de Calor'\n",
        "plt.figure(figsize=(15,10))\n",
        "sns.heatmap(df.corr(), annot=True, cmap='Blues')"
      ]
    },
    {
      "cell_type": "markdown",
      "metadata": {
        "id": "rjcs1imVInJM"
      },
      "source": [
        "### Definição de Funções"
      ]
    },
    {
      "cell_type": "code",
      "execution_count": null,
      "metadata": {
        "colab": {
          "base_uri": "https://localhost:8080/",
          "height": 300
        },
        "id": "WPVdDFYsIqM2",
        "outputId": "898fcb94-a18a-403d-a99e-4f7c2b40647b"
      },
      "outputs": [
        {
          "output_type": "execute_result",
          "data": {
            "text/plain": [
              "              Age   RestingBP  Cholesterol   FastingBS       MaxHR  \\\n",
              "count  918.000000  918.000000   918.000000  918.000000  918.000000   \n",
              "mean    53.510893  132.396514   198.799564    0.233115  136.809368   \n",
              "std      9.432617   18.514154   109.384145    0.423046   25.460334   \n",
              "min     28.000000    0.000000     0.000000    0.000000   60.000000   \n",
              "25%     47.000000  120.000000   173.250000    0.000000  120.000000   \n",
              "50%     54.000000  130.000000   223.000000    0.000000  138.000000   \n",
              "75%     60.000000  140.000000   267.000000    0.000000  156.000000   \n",
              "max     77.000000  200.000000   603.000000    1.000000  202.000000   \n",
              "\n",
              "          Oldpeak  HeartDisease  \n",
              "count  918.000000    918.000000  \n",
              "mean     0.887364      0.553377  \n",
              "std      1.066570      0.497414  \n",
              "min     -2.600000      0.000000  \n",
              "25%      0.000000      0.000000  \n",
              "50%      0.600000      1.000000  \n",
              "75%      1.500000      1.000000  \n",
              "max      6.200000      1.000000  "
            ],
            "text/html": [
              "\n",
              "  <div id=\"df-7fa424f9-fe70-485b-8bb1-4feeeeb53a69\">\n",
              "    <div class=\"colab-df-container\">\n",
              "      <div>\n",
              "<style scoped>\n",
              "    .dataframe tbody tr th:only-of-type {\n",
              "        vertical-align: middle;\n",
              "    }\n",
              "\n",
              "    .dataframe tbody tr th {\n",
              "        vertical-align: top;\n",
              "    }\n",
              "\n",
              "    .dataframe thead th {\n",
              "        text-align: right;\n",
              "    }\n",
              "</style>\n",
              "<table border=\"1\" class=\"dataframe\">\n",
              "  <thead>\n",
              "    <tr style=\"text-align: right;\">\n",
              "      <th></th>\n",
              "      <th>Age</th>\n",
              "      <th>RestingBP</th>\n",
              "      <th>Cholesterol</th>\n",
              "      <th>FastingBS</th>\n",
              "      <th>MaxHR</th>\n",
              "      <th>Oldpeak</th>\n",
              "      <th>HeartDisease</th>\n",
              "    </tr>\n",
              "  </thead>\n",
              "  <tbody>\n",
              "    <tr>\n",
              "      <th>count</th>\n",
              "      <td>918.000000</td>\n",
              "      <td>918.000000</td>\n",
              "      <td>918.000000</td>\n",
              "      <td>918.000000</td>\n",
              "      <td>918.000000</td>\n",
              "      <td>918.000000</td>\n",
              "      <td>918.000000</td>\n",
              "    </tr>\n",
              "    <tr>\n",
              "      <th>mean</th>\n",
              "      <td>53.510893</td>\n",
              "      <td>132.396514</td>\n",
              "      <td>198.799564</td>\n",
              "      <td>0.233115</td>\n",
              "      <td>136.809368</td>\n",
              "      <td>0.887364</td>\n",
              "      <td>0.553377</td>\n",
              "    </tr>\n",
              "    <tr>\n",
              "      <th>std</th>\n",
              "      <td>9.432617</td>\n",
              "      <td>18.514154</td>\n",
              "      <td>109.384145</td>\n",
              "      <td>0.423046</td>\n",
              "      <td>25.460334</td>\n",
              "      <td>1.066570</td>\n",
              "      <td>0.497414</td>\n",
              "    </tr>\n",
              "    <tr>\n",
              "      <th>min</th>\n",
              "      <td>28.000000</td>\n",
              "      <td>0.000000</td>\n",
              "      <td>0.000000</td>\n",
              "      <td>0.000000</td>\n",
              "      <td>60.000000</td>\n",
              "      <td>-2.600000</td>\n",
              "      <td>0.000000</td>\n",
              "    </tr>\n",
              "    <tr>\n",
              "      <th>25%</th>\n",
              "      <td>47.000000</td>\n",
              "      <td>120.000000</td>\n",
              "      <td>173.250000</td>\n",
              "      <td>0.000000</td>\n",
              "      <td>120.000000</td>\n",
              "      <td>0.000000</td>\n",
              "      <td>0.000000</td>\n",
              "    </tr>\n",
              "    <tr>\n",
              "      <th>50%</th>\n",
              "      <td>54.000000</td>\n",
              "      <td>130.000000</td>\n",
              "      <td>223.000000</td>\n",
              "      <td>0.000000</td>\n",
              "      <td>138.000000</td>\n",
              "      <td>0.600000</td>\n",
              "      <td>1.000000</td>\n",
              "    </tr>\n",
              "    <tr>\n",
              "      <th>75%</th>\n",
              "      <td>60.000000</td>\n",
              "      <td>140.000000</td>\n",
              "      <td>267.000000</td>\n",
              "      <td>0.000000</td>\n",
              "      <td>156.000000</td>\n",
              "      <td>1.500000</td>\n",
              "      <td>1.000000</td>\n",
              "    </tr>\n",
              "    <tr>\n",
              "      <th>max</th>\n",
              "      <td>77.000000</td>\n",
              "      <td>200.000000</td>\n",
              "      <td>603.000000</td>\n",
              "      <td>1.000000</td>\n",
              "      <td>202.000000</td>\n",
              "      <td>6.200000</td>\n",
              "      <td>1.000000</td>\n",
              "    </tr>\n",
              "  </tbody>\n",
              "</table>\n",
              "</div>\n",
              "      <button class=\"colab-df-convert\" onclick=\"convertToInteractive('df-7fa424f9-fe70-485b-8bb1-4feeeeb53a69')\"\n",
              "              title=\"Convert this dataframe to an interactive table.\"\n",
              "              style=\"display:none;\">\n",
              "        \n",
              "  <svg xmlns=\"http://www.w3.org/2000/svg\" height=\"24px\"viewBox=\"0 0 24 24\"\n",
              "       width=\"24px\">\n",
              "    <path d=\"M0 0h24v24H0V0z\" fill=\"none\"/>\n",
              "    <path d=\"M18.56 5.44l.94 2.06.94-2.06 2.06-.94-2.06-.94-.94-2.06-.94 2.06-2.06.94zm-11 1L8.5 8.5l.94-2.06 2.06-.94-2.06-.94L8.5 2.5l-.94 2.06-2.06.94zm10 10l.94 2.06.94-2.06 2.06-.94-2.06-.94-.94-2.06-.94 2.06-2.06.94z\"/><path d=\"M17.41 7.96l-1.37-1.37c-.4-.4-.92-.59-1.43-.59-.52 0-1.04.2-1.43.59L10.3 9.45l-7.72 7.72c-.78.78-.78 2.05 0 2.83L4 21.41c.39.39.9.59 1.41.59.51 0 1.02-.2 1.41-.59l7.78-7.78 2.81-2.81c.8-.78.8-2.07 0-2.86zM5.41 20L4 18.59l7.72-7.72 1.47 1.35L5.41 20z\"/>\n",
              "  </svg>\n",
              "      </button>\n",
              "      \n",
              "  <style>\n",
              "    .colab-df-container {\n",
              "      display:flex;\n",
              "      flex-wrap:wrap;\n",
              "      gap: 12px;\n",
              "    }\n",
              "\n",
              "    .colab-df-convert {\n",
              "      background-color: #E8F0FE;\n",
              "      border: none;\n",
              "      border-radius: 50%;\n",
              "      cursor: pointer;\n",
              "      display: none;\n",
              "      fill: #1967D2;\n",
              "      height: 32px;\n",
              "      padding: 0 0 0 0;\n",
              "      width: 32px;\n",
              "    }\n",
              "\n",
              "    .colab-df-convert:hover {\n",
              "      background-color: #E2EBFA;\n",
              "      box-shadow: 0px 1px 2px rgba(60, 64, 67, 0.3), 0px 1px 3px 1px rgba(60, 64, 67, 0.15);\n",
              "      fill: #174EA6;\n",
              "    }\n",
              "\n",
              "    [theme=dark] .colab-df-convert {\n",
              "      background-color: #3B4455;\n",
              "      fill: #D2E3FC;\n",
              "    }\n",
              "\n",
              "    [theme=dark] .colab-df-convert:hover {\n",
              "      background-color: #434B5C;\n",
              "      box-shadow: 0px 1px 3px 1px rgba(0, 0, 0, 0.15);\n",
              "      filter: drop-shadow(0px 1px 2px rgba(0, 0, 0, 0.3));\n",
              "      fill: #FFFFFF;\n",
              "    }\n",
              "  </style>\n",
              "\n",
              "      <script>\n",
              "        const buttonEl =\n",
              "          document.querySelector('#df-7fa424f9-fe70-485b-8bb1-4feeeeb53a69 button.colab-df-convert');\n",
              "        buttonEl.style.display =\n",
              "          google.colab.kernel.accessAllowed ? 'block' : 'none';\n",
              "\n",
              "        async function convertToInteractive(key) {\n",
              "          const element = document.querySelector('#df-7fa424f9-fe70-485b-8bb1-4feeeeb53a69');\n",
              "          const dataTable =\n",
              "            await google.colab.kernel.invokeFunction('convertToInteractive',\n",
              "                                                     [key], {});\n",
              "          if (!dataTable) return;\n",
              "\n",
              "          const docLinkHtml = 'Like what you see? Visit the ' +\n",
              "            '<a target=\"_blank\" href=https://colab.research.google.com/notebooks/data_table.ipynb>data table notebook</a>'\n",
              "            + ' to learn more about interactive tables.';\n",
              "          element.innerHTML = '';\n",
              "          dataTable['output_type'] = 'display_data';\n",
              "          await google.colab.output.renderOutput(dataTable, element);\n",
              "          const docLink = document.createElement('div');\n",
              "          docLink.innerHTML = docLinkHtml;\n",
              "          element.appendChild(docLink);\n",
              "        }\n",
              "      </script>\n",
              "    </div>\n",
              "  </div>\n",
              "  "
            ]
          },
          "metadata": {},
          "execution_count": 8
        }
      ],
      "source": [
        "df.describe()"
      ]
    },
    {
      "cell_type": "markdown",
      "metadata": {
        "id": "K5S4AyuTIyUP"
      },
      "source": [
        "Funções para definir os limites dos outliers e exckuir outliers\n"
      ]
    },
    {
      "cell_type": "code",
      "execution_count": null,
      "metadata": {
        "id": "Ale6lsnfI1cK"
      },
      "outputs": [],
      "source": [
        "def limites(coluna):\n",
        "  q1 = coluna.quantile(0.25)\n",
        "  q3 = coluna.quantile(0.75)\n",
        "  IQR = q3 - q1\n",
        "  return q1-1.5*IQR, q3+1.5*IQR"
      ]
    },
    {
      "cell_type": "code",
      "execution_count": null,
      "metadata": {
        "id": "QgRiEcrYJD6x"
      },
      "outputs": [],
      "source": [
        "def excluir_outliers(df, nome_coluna):\n",
        "   qtde_linhas = df.shape[0]\n",
        "   lim_inf, lim_sup = limites(df[nome_coluna])\n",
        "   df = df.loc[(df[nome_coluna] > lim_inf) & (df[nome_coluna] <= lim_sup), :]\n",
        "   linhas_removidas = qtde_linhas - df.shape[0]\n",
        "   return df, linhas_removidas"
      ]
    },
    {
      "cell_type": "markdown",
      "metadata": {
        "id": "jwIWBugwJMZq"
      },
      "source": [
        "Criar funções para impressão de gráficos"
      ]
    },
    {
      "cell_type": "code",
      "execution_count": null,
      "metadata": {
        "id": "EL2NKLdHJQGa"
      },
      "outputs": [],
      "source": [
        "def box_plot(coluna):\n",
        "  fig, (ax1, ax2) = plt.subplots(1, 2)\n",
        "  fig.set_size_inches(15, 5)\n",
        "  sns.boxplot(x=coluna, ax=ax1)\n",
        "  ax2.set_xlim(limites(coluna))\n",
        "  sns.boxplot(x=coluna, ax=ax2)\n",
        "\n",
        "def hist(coluna):\n",
        "  plt.figure(figsize=(15,5))\n",
        "  sns.distplot(coluna, hist=True)\n",
        "\n",
        "def bar_plot(coluna):\n",
        "  plt.figure(figsize=(15,5))\n",
        "  ax = sns.barplot(x = coluna.value_counts().index , y = coluna.value_counts())\n",
        "  ax.set_xlim(limites(coluna))"
      ]
    },
    {
      "cell_type": "markdown",
      "metadata": {
        "id": "Pe1F7-TmKFZ4"
      },
      "source": [
        "Age"
      ]
    },
    {
      "cell_type": "code",
      "execution_count": null,
      "metadata": {
        "colab": {
          "base_uri": "https://localhost:8080/",
          "height": 706
        },
        "id": "qkSvH3fWKHBp",
        "outputId": "df0b73af-63b1-4667-cc97-849a2bbfa7c1"
      },
      "outputs": [
        {
          "output_type": "stream",
          "name": "stderr",
          "text": [
            "/usr/local/lib/python3.7/dist-packages/seaborn/distributions.py:2619: FutureWarning: `distplot` is a deprecated function and will be removed in a future version. Please adapt your code to use either `displot` (a figure-level function with similar flexibility) or `histplot` (an axes-level function for histograms).\n",
            "  warnings.warn(msg, FutureWarning)\n"
          ]
        },
        {
          "output_type": "display_data",
          "data": {
            "text/plain": [
              "<Figure size 1080x360 with 2 Axes>"
            ],
            "image/png": "[encoded data removed]"
          },
          "metadata": {
            "needs_background": "light"
          }
        },
        {
          "output_type": "display_data",
          "data": {
            "text/plain": [
              "<Figure size 1080x360 with 1 Axes>"
            ],
            "image/png": "[encoded data removed]"
          },
          "metadata": {
            "needs_background": "light"
          }
        }
      ],
      "source": [
        "box_plot(df['Age'])\n",
        "hist(df['Age'])"
      ]
    },
    {
      "cell_type": "markdown",
      "metadata": {
        "id": "1U9h9h-PKNCh"
      },
      "source": [
        "RestingBP"
      ]
    },
    {
      "cell_type": "code",
      "execution_count": null,
      "metadata": {
        "colab": {
          "base_uri": "https://localhost:8080/",
          "height": 707
        },
        "id": "bgGG6hQoKPOj",
        "outputId": "2f793b82-f6ac-43d4-c4a9-7e258f4dad5a"
      },
      "outputs": [
        {
          "output_type": "stream",
          "name": "stderr",
          "text": [
            "/usr/local/lib/python3.7/dist-packages/seaborn/distributions.py:2619: FutureWarning: `distplot` is a deprecated function and will be removed in a future version. Please adapt your code to use either `displot` (a figure-level function with similar flexibility) or `histplot` (an axes-level function for histograms).\n",
            "  warnings.warn(msg, FutureWarning)\n"
          ]
        },
        {
          "output_type": "display_data",
          "data": {
            "text/plain": [
              "<Figure size 1080x360 with 2 Axes>"
            ],
            "image/png": "[encoded data removed]"
          },
          "metadata": {
            "needs_background": "light"
          }
        },
        {
          "output_type": "display_data",
          "data": {
            "text/plain": [
              "<Figure size 1080x360 with 1 Axes>"
            ],
            "image/png": "[encoded data removed]"
          },
          "metadata": {
            "needs_background": "light"
          }
        }
      ],
      "source": [
        "box_plot(df['RestingBP'])\n",
        "hist(df['RestingBP'])"
      ]
    },
    {
      "cell_type": "markdown",
      "source": [
        "Removendo dados que a PA é igual a 0"
      ],
      "metadata": {
        "id": "7lkrBNS7IjqW"
      }
    },
    {
      "cell_type": "code",
      "source": [
        "df.query('RestingBP==0')"
      ],
      "metadata": {
        "colab": {
          "base_uri": "https://localhost:8080/",
          "height": 81
        },
        "id": "qbSilAH_Fsq2",
        "outputId": "36a45fd0-dd64-4fa6-b658-445dc3f6e2f9"
      },
      "execution_count": null,
      "outputs": [
        {
          "output_type": "execute_result",
          "data": {
            "text/plain": [
              "     Age Sex ChestPainType  RestingBP  Cholesterol  FastingBS RestingECG  \\\n",
              "449   55   M           NAP          0            0          0     Normal   \n",
              "\n",
              "     MaxHR ExerciseAngina  Oldpeak ST_Slope  HeartDisease  \n",
              "449    155              N      1.5     Flat             1  "
            ],
            "text/html": [
              "\n",
              "  <div id=\"df-91df68b6-1e99-40e4-8329-70930474f2c3\">\n",
              "    <div class=\"colab-df-container\">\n",
              "      <div>\n",
              "<style scoped>\n",
              "    .dataframe tbody tr th:only-of-type {\n",
              "        vertical-align: middle;\n",
              "    }\n",
              "\n",
              "    .dataframe tbody tr th {\n",
              "        vertical-align: top;\n",
              "    }\n",
              "\n",
              "    .dataframe thead th {\n",
              "        text-align: right;\n",
              "    }\n",
              "</style>\n",
              "<table border=\"1\" class=\"dataframe\">\n",
              "  <thead>\n",
              "    <tr style=\"text-align: right;\">\n",
              "      <th></th>\n",
              "      <th>Age</th>\n",
              "      <th>Sex</th>\n",
              "      <th>ChestPainType</th>\n",
              "      <th>RestingBP</th>\n",
              "      <th>Cholesterol</th>\n",
              "      <th>FastingBS</th>\n",
              "      <th>RestingECG</th>\n",
              "      <th>MaxHR</th>\n",
              "      <th>ExerciseAngina</th>\n",
              "      <th>Oldpeak</th>\n",
              "      <th>ST_Slope</th>\n",
              "      <th>HeartDisease</th>\n",
              "    </tr>\n",
              "  </thead>\n",
              "  <tbody>\n",
              "    <tr>\n",
              "      <th>449</th>\n",
              "      <td>55</td>\n",
              "      <td>M</td>\n",
              "      <td>NAP</td>\n",
              "      <td>0</td>\n",
              "      <td>0</td>\n",
              "      <td>0</td>\n",
              "      <td>Normal</td>\n",
              "      <td>155</td>\n",
              "      <td>N</td>\n",
              "      <td>1.5</td>\n",
              "      <td>Flat</td>\n",
              "      <td>1</td>\n",
              "    </tr>\n",
              "  </tbody>\n",
              "</table>\n",
              "</div>\n",
              "      <button class=\"colab-df-convert\" onclick=\"convertToInteractive('df-91df68b6-1e99-40e4-8329-70930474f2c3')\"\n",
              "              title=\"Convert this dataframe to an interactive table.\"\n",
              "              style=\"display:none;\">\n",
              "        \n",
              "  <svg xmlns=\"http://www.w3.org/2000/svg\" height=\"24px\"viewBox=\"0 0 24 24\"\n",
              "       width=\"24px\">\n",
              "    <path d=\"M0 0h24v24H0V0z\" fill=\"none\"/>\n",
              "    <path d=\"M18.56 5.44l.94 2.06.94-2.06 2.06-.94-2.06-.94-.94-2.06-.94 2.06-2.06.94zm-11 1L8.5 8.5l.94-2.06 2.06-.94-2.06-.94L8.5 2.5l-.94 2.06-2.06.94zm10 10l.94 2.06.94-2.06 2.06-.94-2.06-.94-.94-2.06-.94 2.06-2.06.94z\"/><path d=\"M17.41 7.96l-1.37-1.37c-.4-.4-.92-.59-1.43-.59-.52 0-1.04.2-1.43.59L10.3 9.45l-7.72 7.72c-.78.78-.78 2.05 0 2.83L4 21.41c.39.39.9.59 1.41.59.51 0 1.02-.2 1.41-.59l7.78-7.78 2.81-2.81c.8-.78.8-2.07 0-2.86zM5.41 20L4 18.59l7.72-7.72 1.47 1.35L5.41 20z\"/>\n",
              "  </svg>\n",
              "      </button>\n",
              "      \n",
              "  <style>\n",
              "    .colab-df-container {\n",
              "      display:flex;\n",
              "      flex-wrap:wrap;\n",
              "      gap: 12px;\n",
              "    }\n",
              "\n",
              "    .colab-df-convert {\n",
              "      background-color: #E8F0FE;\n",
              "      border: none;\n",
              "      border-radius: 50%;\n",
              "      cursor: pointer;\n",
              "      display: none;\n",
              "      fill: #1967D2;\n",
              "      height: 32px;\n",
              "      padding: 0 0 0 0;\n",
              "      width: 32px;\n",
              "    }\n",
              "\n",
              "    .colab-df-convert:hover {\n",
              "      background-color: #E2EBFA;\n",
              "      box-shadow: 0px 1px 2px rgba(60, 64, 67, 0.3), 0px 1px 3px 1px rgba(60, 64, 67, 0.15);\n",
              "      fill: #174EA6;\n",
              "    }\n",
              "\n",
              "    [theme=dark] .colab-df-convert {\n",
              "      background-color: #3B4455;\n",
              "      fill: #D2E3FC;\n",
              "    }\n",
              "\n",
              "    [theme=dark] .colab-df-convert:hover {\n",
              "      background-color: #434B5C;\n",
              "      box-shadow: 0px 1px 3px 1px rgba(0, 0, 0, 0.15);\n",
              "      filter: drop-shadow(0px 1px 2px rgba(0, 0, 0, 0.3));\n",
              "      fill: #FFFFFF;\n",
              "    }\n",
              "  </style>\n",
              "\n",
              "      <script>\n",
              "        const buttonEl =\n",
              "          document.querySelector('#df-91df68b6-1e99-40e4-8329-70930474f2c3 button.colab-df-convert');\n",
              "        buttonEl.style.display =\n",
              "          google.colab.kernel.accessAllowed ? 'block' : 'none';\n",
              "\n",
              "        async function convertToInteractive(key) {\n",
              "          const element = document.querySelector('#df-91df68b6-1e99-40e4-8329-70930474f2c3');\n",
              "          const dataTable =\n",
              "            await google.colab.kernel.invokeFunction('convertToInteractive',\n",
              "                                                     [key], {});\n",
              "          if (!dataTable) return;\n",
              "\n",
              "          const docLinkHtml = 'Like what you see? Visit the ' +\n",
              "            '<a target=\"_blank\" href=https://colab.research.google.com/notebooks/data_table.ipynb>data table notebook</a>'\n",
              "            + ' to learn more about interactive tables.';\n",
              "          element.innerHTML = '';\n",
              "          dataTable['output_type'] = 'display_data';\n",
              "          await google.colab.output.renderOutput(dataTable, element);\n",
              "          const docLink = document.createElement('div');\n",
              "          docLink.innerHTML = docLinkHtml;\n",
              "          element.appendChild(docLink);\n",
              "        }\n",
              "      </script>\n",
              "    </div>\n",
              "  </div>\n",
              "  "
            ]
          },
          "metadata": {},
          "execution_count": 14
        }
      ]
    },
    {
      "cell_type": "code",
      "source": [
        "df.drop(df.loc[df['RestingBP']==0].index, inplace=True)"
      ],
      "metadata": {
        "id": "f3V-fNiKHM_T"
      },
      "execution_count": null,
      "outputs": []
    },
    {
      "cell_type": "code",
      "source": [
        "df.shape"
      ],
      "metadata": {
        "colab": {
          "base_uri": "https://localhost:8080/"
        },
        "id": "rnQtZXg3IPIS",
        "outputId": "2b0e12ca-6517-4a83-9116-8c80f7f98aae"
      },
      "execution_count": null,
      "outputs": [
        {
          "output_type": "execute_result",
          "data": {
            "text/plain": [
              "(917, 12)"
            ]
          },
          "metadata": {},
          "execution_count": 16
        }
      ]
    },
    {
      "cell_type": "code",
      "source": [
        "box_plot(df['RestingBP'])\n",
        "hist(df['RestingBP'])"
      ],
      "metadata": {
        "colab": {
          "base_uri": "https://localhost:8080/",
          "height": 706
        },
        "id": "XMmUdWzSIXdB",
        "outputId": "e0221494-ffb3-4e4e-843e-2f517b06348a"
      },
      "execution_count": null,
      "outputs": [
        {
          "output_type": "stream",
          "name": "stderr",
          "text": [
            "/usr/local/lib/python3.7/dist-packages/seaborn/distributions.py:2619: FutureWarning: `distplot` is a deprecated function and will be removed in a future version. Please adapt your code to use either `displot` (a figure-level function with similar flexibility) or `histplot` (an axes-level function for histograms).\n",
            "  warnings.warn(msg, FutureWarning)\n"
          ]
        },
        {
          "output_type": "display_data",
          "data": {
            "text/plain": [
              "<Figure size 1080x360 with 2 Axes>"
            ],
            "image/png": "[encoded data removed]"
          },
          "metadata": {
            "needs_background": "light"
          }
        },
        {
          "output_type": "display_data",
          "data": {
            "text/plain": [
              "<Figure size 1080x360 with 1 Axes>"
            ],
            "image/png": "[encoded data removed]"
          },
          "metadata": {
            "needs_background": "light"
          }
        }
      ]
    },
    {
      "cell_type": "markdown",
      "metadata": {
        "id": "cp-UKtmtKhOr"
      },
      "source": [
        "Cholesterol"
      ]
    },
    {
      "cell_type": "code",
      "execution_count": null,
      "metadata": {
        "colab": {
          "base_uri": "https://localhost:8080/",
          "height": 723
        },
        "id": "TsrvLwaLKj-o",
        "outputId": "9c4930ad-7ece-4411-9630-f8a97a42db33"
      },
      "outputs": [
        {
          "output_type": "stream",
          "name": "stdout",
          "text": [
            "(34.5, 406.5)\n"
          ]
        },
        {
          "output_type": "stream",
          "name": "stderr",
          "text": [
            "/usr/local/lib/python3.7/dist-packages/seaborn/distributions.py:2619: FutureWarning: `distplot` is a deprecated function and will be removed in a future version. Please adapt your code to use either `displot` (a figure-level function with similar flexibility) or `histplot` (an axes-level function for histograms).\n",
            "  warnings.warn(msg, FutureWarning)\n"
          ]
        },
        {
          "output_type": "display_data",
          "data": {
            "text/plain": [
              "<Figure size 1080x360 with 2 Axes>"
            ],
            "image/png": "[encoded data removed]"
          },
          "metadata": {
            "needs_background": "light"
          }
        },
        {
          "output_type": "display_data",
          "data": {
            "text/plain": [
              "<Figure size 1080x360 with 1 Axes>"
            ],
            "image/png": "[encoded data removed]"
          },
          "metadata": {
            "needs_background": "light"
          }
        }
      ],
      "source": [
        "print(limites(df['Cholesterol']))\n",
        "box_plot(df['Cholesterol'])\n",
        "hist(df['Cholesterol'])"
      ]
    },
    {
      "cell_type": "code",
      "execution_count": null,
      "metadata": {
        "colab": {
          "base_uri": "https://localhost:8080/"
        },
        "id": "gQvaSycIKks_",
        "outputId": "77c3f22c-a4fd-4a7d-d0e2-970c3404499a"
      },
      "outputs": [
        {
          "output_type": "stream",
          "name": "stdout",
          "text": [
            "183 linhas removidas\n"
          ]
        }
      ],
      "source": [
        "# Excluindo os outliers\n",
        "df, linhas_removidas = excluir_outliers(df, 'Cholesterol')\n",
        "print('{} linhas removidas'.format(linhas_removidas))"
      ]
    },
    {
      "cell_type": "code",
      "execution_count": null,
      "metadata": {
        "colab": {
          "base_uri": "https://localhost:8080/",
          "height": 406
        },
        "id": "wRqlLlegKlVW",
        "outputId": "e392b1c0-55e7-4b96-986a-81bd99a25f31"
      },
      "outputs": [
        {
          "output_type": "stream",
          "name": "stdout",
          "text": [
            "(734, 12)\n"
          ]
        },
        {
          "output_type": "stream",
          "name": "stderr",
          "text": [
            "/usr/local/lib/python3.7/dist-packages/seaborn/distributions.py:2619: FutureWarning: `distplot` is a deprecated function and will be removed in a future version. Please adapt your code to use either `displot` (a figure-level function with similar flexibility) or `histplot` (an axes-level function for histograms).\n",
            "  warnings.warn(msg, FutureWarning)\n"
          ]
        },
        {
          "output_type": "display_data",
          "data": {
            "text/plain": [
              "<Figure size 1080x360 with 1 Axes>"
            ],
            "image/png": "[encoded data removed]"
          },
          "metadata": {
            "needs_background": "light"
          }
        }
      ],
      "source": [
        "hist(df['Cholesterol'])\n",
        "print(df.shape)"
      ]
    },
    {
      "cell_type": "markdown",
      "metadata": {
        "id": "2pHIwu8QKt6v"
      },
      "source": [
        "FastingBS"
      ]
    },
    {
      "cell_type": "code",
      "execution_count": null,
      "metadata": {
        "colab": {
          "base_uri": "https://localhost:8080/",
          "height": 758
        },
        "id": "gGpKbdJVKvKm",
        "outputId": "5236f735-58a9-4e29-d8c4-0d86de82a99d"
      },
      "outputs": [
        {
          "output_type": "stream",
          "name": "stdout",
          "text": [
            "(0.0, 0.0)\n"
          ]
        },
        {
          "output_type": "stream",
          "name": "stderr",
          "text": [
            "/usr/local/lib/python3.7/dist-packages/ipykernel_launcher.py:5: UserWarning: Attempting to set identical left == right == 0.0 results in singular transformations; automatically expanding.\n",
            "  \"\"\"\n",
            "/usr/local/lib/python3.7/dist-packages/seaborn/distributions.py:2619: FutureWarning: `distplot` is a deprecated function and will be removed in a future version. Please adapt your code to use either `displot` (a figure-level function with similar flexibility) or `histplot` (an axes-level function for histograms).\n",
            "  warnings.warn(msg, FutureWarning)\n"
          ]
        },
        {
          "output_type": "display_data",
          "data": {
            "text/plain": [
              "<Figure size 1080x360 with 2 Axes>"
            ],
            "image/png": "[encoded data removed]"
          },
          "metadata": {
            "needs_background": "light"
          }
        },
        {
          "output_type": "display_data",
          "data": {
            "text/plain": [
              "<Figure size 1080x360 with 1 Axes>"
            ],
            "image/png": "[encoded data removed]"
          },
          "metadata": {
            "needs_background": "light"
          }
        }
      ],
      "source": [
        "print(limites(df['FastingBS']))\n",
        "box_plot(df['FastingBS'])\n",
        "hist(df['FastingBS'])"
      ]
    },
    {
      "cell_type": "markdown",
      "metadata": {
        "id": "p7j_WCyPK2fz"
      },
      "source": [
        "MaxHR"
      ]
    },
    {
      "cell_type": "code",
      "execution_count": null,
      "metadata": {
        "colab": {
          "base_uri": "https://localhost:8080/",
          "height": 723
        },
        "id": "vTKdniV1Kv1W",
        "outputId": "b63f01ef-1a1f-42ee-d05e-5ed3ccaf7fac"
      },
      "outputs": [
        {
          "output_type": "stream",
          "name": "stdout",
          "text": [
            "(65.0, 217.0)\n"
          ]
        },
        {
          "output_type": "stream",
          "name": "stderr",
          "text": [
            "/usr/local/lib/python3.7/dist-packages/seaborn/distributions.py:2619: FutureWarning: `distplot` is a deprecated function and will be removed in a future version. Please adapt your code to use either `displot` (a figure-level function with similar flexibility) or `histplot` (an axes-level function for histograms).\n",
            "  warnings.warn(msg, FutureWarning)\n"
          ]
        },
        {
          "output_type": "display_data",
          "data": {
            "text/plain": [
              "<Figure size 1080x360 with 2 Axes>"
            ],
            "image/png": "[encoded data removed]"
          },
          "metadata": {
            "needs_background": "light"
          }
        },
        {
          "output_type": "display_data",
          "data": {
            "text/plain": [
              "<Figure size 1080x360 with 1 Axes>"
            ],
            "image/png": "[encoded data removed]"
          },
          "metadata": {
            "needs_background": "light"
          }
        }
      ],
      "source": [
        "print(limites(df['MaxHR']))\n",
        "box_plot(df['MaxHR'])\n",
        "hist(df['MaxHR'])"
      ]
    },
    {
      "cell_type": "markdown",
      "metadata": {
        "id": "xZDAyEFqK-mk"
      },
      "source": [
        "Oldpeak"
      ]
    },
    {
      "cell_type": "code",
      "execution_count": null,
      "metadata": {
        "colab": {
          "base_uri": "https://localhost:8080/",
          "height": 723
        },
        "id": "FQ2005FdKwgH",
        "outputId": "f83b0409-5c4f-49bb-a4a6-86336188ec54"
      },
      "outputs": [
        {
          "output_type": "stream",
          "name": "stdout",
          "text": [
            "(-2.25, 3.75)\n"
          ]
        },
        {
          "output_type": "stream",
          "name": "stderr",
          "text": [
            "/usr/local/lib/python3.7/dist-packages/seaborn/distributions.py:2619: FutureWarning: `distplot` is a deprecated function and will be removed in a future version. Please adapt your code to use either `displot` (a figure-level function with similar flexibility) or `histplot` (an axes-level function for histograms).\n",
            "  warnings.warn(msg, FutureWarning)\n"
          ]
        },
        {
          "output_type": "display_data",
          "data": {
            "text/plain": [
              "<Figure size 1080x360 with 2 Axes>"
            ],
            "image/png": "[encoded data removed]"
          },
          "metadata": {
            "needs_background": "light"
          }
        },
        {
          "output_type": "display_data",
          "data": {
            "text/plain": [
              "<Figure size 1080x360 with 1 Axes>"
            ],
            "image/png": "[encoded data removed]"
          },
          "metadata": {
            "needs_background": "light"
          }
        }
      ],
      "source": [
        "print(limites(df['Oldpeak']))\n",
        "box_plot(df['Oldpeak'])\n",
        "hist(df['Oldpeak'])"
      ]
    },
    {
      "cell_type": "markdown",
      "source": [
        "Removendo valores menor que 0"
      ],
      "metadata": {
        "id": "RRKoPZIuL3wn"
      }
    },
    {
      "cell_type": "code",
      "source": [
        "df.query('Oldpeak<0')"
      ],
      "metadata": {
        "colab": {
          "base_uri": "https://localhost:8080/",
          "height": 81
        },
        "id": "MDgZDJ41LyO0",
        "outputId": "5d3859a2-75c6-476a-a35d-25c000658008"
      },
      "execution_count": null,
      "outputs": [
        {
          "output_type": "execute_result",
          "data": {
            "text/plain": [
              "     Age Sex ChestPainType  RestingBP  Cholesterol  FastingBS RestingECG  \\\n",
              "512   35   M           NAP        123          161          0         ST   \n",
              "\n",
              "     MaxHR ExerciseAngina  Oldpeak ST_Slope  HeartDisease  \n",
              "512    153              N     -0.1       Up             0  "
            ],
            "text/html": [
              "\n",
              "  <div id=\"df-8c49c0d0-0df7-4663-b545-f06152d9b2e8\">\n",
              "    <div class=\"colab-df-container\">\n",
              "      <div>\n",
              "<style scoped>\n",
              "    .dataframe tbody tr th:only-of-type {\n",
              "        vertical-align: middle;\n",
              "    }\n",
              "\n",
              "    .dataframe tbody tr th {\n",
              "        vertical-align: top;\n",
              "    }\n",
              "\n",
              "    .dataframe thead th {\n",
              "        text-align: right;\n",
              "    }\n",
              "</style>\n",
              "<table border=\"1\" class=\"dataframe\">\n",
              "  <thead>\n",
              "    <tr style=\"text-align: right;\">\n",
              "      <th></th>\n",
              "      <th>Age</th>\n",
              "      <th>Sex</th>\n",
              "      <th>ChestPainType</th>\n",
              "      <th>RestingBP</th>\n",
              "      <th>Cholesterol</th>\n",
              "      <th>FastingBS</th>\n",
              "      <th>RestingECG</th>\n",
              "      <th>MaxHR</th>\n",
              "      <th>ExerciseAngina</th>\n",
              "      <th>Oldpeak</th>\n",
              "      <th>ST_Slope</th>\n",
              "      <th>HeartDisease</th>\n",
              "    </tr>\n",
              "  </thead>\n",
              "  <tbody>\n",
              "    <tr>\n",
              "      <th>512</th>\n",
              "      <td>35</td>\n",
              "      <td>M</td>\n",
              "      <td>NAP</td>\n",
              "      <td>123</td>\n",
              "      <td>161</td>\n",
              "      <td>0</td>\n",
              "      <td>ST</td>\n",
              "      <td>153</td>\n",
              "      <td>N</td>\n",
              "      <td>-0.1</td>\n",
              "      <td>Up</td>\n",
              "      <td>0</td>\n",
              "    </tr>\n",
              "  </tbody>\n",
              "</table>\n",
              "</div>\n",
              "      <button class=\"colab-df-convert\" onclick=\"convertToInteractive('df-8c49c0d0-0df7-4663-b545-f06152d9b2e8')\"\n",
              "              title=\"Convert this dataframe to an interactive table.\"\n",
              "              style=\"display:none;\">\n",
              "        \n",
              "  <svg xmlns=\"http://www.w3.org/2000/svg\" height=\"24px\"viewBox=\"0 0 24 24\"\n",
              "       width=\"24px\">\n",
              "    <path d=\"M0 0h24v24H0V0z\" fill=\"none\"/>\n",
              "    <path d=\"M18.56 5.44l.94 2.06.94-2.06 2.06-.94-2.06-.94-.94-2.06-.94 2.06-2.06.94zm-11 1L8.5 8.5l.94-2.06 2.06-.94-2.06-.94L8.5 2.5l-.94 2.06-2.06.94zm10 10l.94 2.06.94-2.06 2.06-.94-2.06-.94-.94-2.06-.94 2.06-2.06.94z\"/><path d=\"M17.41 7.96l-1.37-1.37c-.4-.4-.92-.59-1.43-.59-.52 0-1.04.2-1.43.59L10.3 9.45l-7.72 7.72c-.78.78-.78 2.05 0 2.83L4 21.41c.39.39.9.59 1.41.59.51 0 1.02-.2 1.41-.59l7.78-7.78 2.81-2.81c.8-.78.8-2.07 0-2.86zM5.41 20L4 18.59l7.72-7.72 1.47 1.35L5.41 20z\"/>\n",
              "  </svg>\n",
              "      </button>\n",
              "      \n",
              "  <style>\n",
              "    .colab-df-container {\n",
              "      display:flex;\n",
              "      flex-wrap:wrap;\n",
              "      gap: 12px;\n",
              "    }\n",
              "\n",
              "    .colab-df-convert {\n",
              "      background-color: #E8F0FE;\n",
              "      border: none;\n",
              "      border-radius: 50%;\n",
              "      cursor: pointer;\n",
              "      display: none;\n",
              "      fill: #1967D2;\n",
              "      height: 32px;\n",
              "      padding: 0 0 0 0;\n",
              "      width: 32px;\n",
              "    }\n",
              "\n",
              "    .colab-df-convert:hover {\n",
              "      background-color: #E2EBFA;\n",
              "      box-shadow: 0px 1px 2px rgba(60, 64, 67, 0.3), 0px 1px 3px 1px rgba(60, 64, 67, 0.15);\n",
              "      fill: #174EA6;\n",
              "    }\n",
              "\n",
              "    [theme=dark] .colab-df-convert {\n",
              "      background-color: #3B4455;\n",
              "      fill: #D2E3FC;\n",
              "    }\n",
              "\n",
              "    [theme=dark] .colab-df-convert:hover {\n",
              "      background-color: #434B5C;\n",
              "      box-shadow: 0px 1px 3px 1px rgba(0, 0, 0, 0.15);\n",
              "      filter: drop-shadow(0px 1px 2px rgba(0, 0, 0, 0.3));\n",
              "      fill: #FFFFFF;\n",
              "    }\n",
              "  </style>\n",
              "\n",
              "      <script>\n",
              "        const buttonEl =\n",
              "          document.querySelector('#df-8c49c0d0-0df7-4663-b545-f06152d9b2e8 button.colab-df-convert');\n",
              "        buttonEl.style.display =\n",
              "          google.colab.kernel.accessAllowed ? 'block' : 'none';\n",
              "\n",
              "        async function convertToInteractive(key) {\n",
              "          const element = document.querySelector('#df-8c49c0d0-0df7-4663-b545-f06152d9b2e8');\n",
              "          const dataTable =\n",
              "            await google.colab.kernel.invokeFunction('convertToInteractive',\n",
              "                                                     [key], {});\n",
              "          if (!dataTable) return;\n",
              "\n",
              "          const docLinkHtml = 'Like what you see? Visit the ' +\n",
              "            '<a target=\"_blank\" href=https://colab.research.google.com/notebooks/data_table.ipynb>data table notebook</a>'\n",
              "            + ' to learn more about interactive tables.';\n",
              "          element.innerHTML = '';\n",
              "          dataTable['output_type'] = 'display_data';\n",
              "          await google.colab.output.renderOutput(dataTable, element);\n",
              "          const docLink = document.createElement('div');\n",
              "          docLink.innerHTML = docLinkHtml;\n",
              "          element.appendChild(docLink);\n",
              "        }\n",
              "      </script>\n",
              "    </div>\n",
              "  </div>\n",
              "  "
            ]
          },
          "metadata": {},
          "execution_count": 24
        }
      ]
    },
    {
      "cell_type": "code",
      "source": [
        "df.drop(df.loc[df['Oldpeak']<0].index, inplace=True)"
      ],
      "metadata": {
        "colab": {
          "base_uri": "https://localhost:8080/"
        },
        "id": "HGyjyQZcL8W2",
        "outputId": "02198ea0-359a-4d88-f128-6b1b1a57d3ed"
      },
      "execution_count": null,
      "outputs": [
        {
          "output_type": "stream",
          "name": "stderr",
          "text": [
            "/usr/local/lib/python3.7/dist-packages/pandas/core/frame.py:4913: SettingWithCopyWarning: \n",
            "A value is trying to be set on a copy of a slice from a DataFrame\n",
            "\n",
            "See the caveats in the documentation: https://pandas.pydata.org/pandas-docs/stable/user_guide/indexing.html#returning-a-view-versus-a-copy\n",
            "  errors=errors,\n"
          ]
        }
      ]
    },
    {
      "cell_type": "code",
      "source": [
        "box_plot(df['Oldpeak'])\n",
        "hist(df['Oldpeak'])"
      ],
      "metadata": {
        "colab": {
          "base_uri": "https://localhost:8080/",
          "height": 706
        },
        "id": "WuferveSMJv7",
        "outputId": "3ff1245f-93ae-418f-8223-093d486b104e"
      },
      "execution_count": null,
      "outputs": [
        {
          "output_type": "stream",
          "name": "stderr",
          "text": [
            "/usr/local/lib/python3.7/dist-packages/seaborn/distributions.py:2619: FutureWarning: `distplot` is a deprecated function and will be removed in a future version. Please adapt your code to use either `displot` (a figure-level function with similar flexibility) or `histplot` (an axes-level function for histograms).\n",
            "  warnings.warn(msg, FutureWarning)\n"
          ]
        },
        {
          "output_type": "display_data",
          "data": {
            "text/plain": [
              "<Figure size 1080x360 with 2 Axes>"
            ],
            "image/png": "[encoded data removed]"
          },
          "metadata": {
            "needs_background": "light"
          }
        },
        {
          "output_type": "display_data",
          "data": {
            "text/plain": [
              "<Figure size 1080x360 with 1 Axes>"
            ],
            "image/png": "[encoded data removed]"
          },
          "metadata": {
            "needs_background": "light"
          }
        }
      ]
    },
    {
      "cell_type": "markdown",
      "metadata": {
        "id": "FmRCucBALLPS"
      },
      "source": [
        "HeartDisease"
      ]
    },
    {
      "cell_type": "code",
      "execution_count": null,
      "metadata": {
        "colab": {
          "base_uri": "https://localhost:8080/",
          "height": 706
        },
        "id": "RhgxQWA5LM2Z",
        "outputId": "b7600a9f-6e76-4dd1-8c11-3e5c0d0d2ea6"
      },
      "outputs": [
        {
          "output_type": "stream",
          "name": "stderr",
          "text": [
            "/usr/local/lib/python3.7/dist-packages/seaborn/distributions.py:2619: FutureWarning: `distplot` is a deprecated function and will be removed in a future version. Please adapt your code to use either `displot` (a figure-level function with similar flexibility) or `histplot` (an axes-level function for histograms).\n",
            "  warnings.warn(msg, FutureWarning)\n"
          ]
        },
        {
          "output_type": "display_data",
          "data": {
            "text/plain": [
              "<Figure size 1080x360 with 2 Axes>"
            ],
            "image/png": "[encoded data removed]"
          },
          "metadata": {
            "needs_background": "light"
          }
        },
        {
          "output_type": "display_data",
          "data": {
            "text/plain": [
              "<Figure size 1080x360 with 1 Axes>"
            ],
            "image/png": "[encoded data removed]"
          },
          "metadata": {
            "needs_background": "light"
          }
        }
      ],
      "source": [
        "box_plot(df['HeartDisease'])\n",
        "hist(df['HeartDisease'])"
      ]
    },
    {
      "cell_type": "markdown",
      "metadata": {
        "id": "e6D_gDhMLSl6"
      },
      "source": [
        "### Tratamento de colunas com valores de texto"
      ]
    },
    {
      "cell_type": "markdown",
      "metadata": {
        "id": "6Rb88RzbLZR-"
      },
      "source": [
        "Sex"
      ]
    },
    {
      "cell_type": "code",
      "execution_count": null,
      "metadata": {
        "colab": {
          "base_uri": "https://localhost:8080/",
          "height": 441
        },
        "id": "9VpNlsE2LMy6",
        "outputId": "37088138-523c-4884-beb7-e749fbb9e2d1"
      },
      "outputs": [
        {
          "output_type": "stream",
          "name": "stdout",
          "text": [
            "M    556\n",
            "F    177\n",
            "Name: Sex, dtype: int64\n"
          ]
        },
        {
          "output_type": "stream",
          "name": "stderr",
          "text": [
            "/usr/local/lib/python3.7/dist-packages/seaborn/_decorators.py:43: FutureWarning: Pass the following variable as a keyword arg: x. From version 0.12, the only valid positional argument will be `data`, and passing other arguments without an explicit keyword will result in an error or misinterpretation.\n",
            "  FutureWarning\n"
          ]
        },
        {
          "output_type": "display_data",
          "data": {
            "text/plain": [
              "<Figure size 1080x360 with 1 Axes>"
            ],
            "image/png": "[encoded data removed]"
          },
          "metadata": {
            "needs_background": "light"
          }
        }
      ],
      "source": [
        "print(df['Sex'].value_counts())\n",
        "\n",
        "plt.figure(figsize=(15,5))\n",
        "grafico = sns.countplot('Sex', data=df)\n",
        "grafico.tick_params(axis='x', rotation=0)"
      ]
    },
    {
      "cell_type": "markdown",
      "metadata": {
        "id": "_s3yDQUJLi3q"
      },
      "source": [
        "ChestPainType"
      ]
    },
    {
      "cell_type": "code",
      "execution_count": null,
      "metadata": {
        "colab": {
          "base_uri": "https://localhost:8080/",
          "height": 475
        },
        "id": "o94R4EuXLMvz",
        "outputId": "4d8d12a9-599c-4783-e0d2-31622871f92b"
      },
      "outputs": [
        {
          "output_type": "stream",
          "name": "stdout",
          "text": [
            "ASY    362\n",
            "ATA    165\n",
            "NAP    165\n",
            "TA      41\n",
            "Name: ChestPainType, dtype: int64\n"
          ]
        },
        {
          "output_type": "stream",
          "name": "stderr",
          "text": [
            "/usr/local/lib/python3.7/dist-packages/seaborn/_decorators.py:43: FutureWarning: Pass the following variable as a keyword arg: x. From version 0.12, the only valid positional argument will be `data`, and passing other arguments without an explicit keyword will result in an error or misinterpretation.\n",
            "  FutureWarning\n"
          ]
        },
        {
          "output_type": "display_data",
          "data": {
            "text/plain": [
              "<Figure size 1080x360 with 1 Axes>"
            ],
            "image/png": "[encoded data removed]"
          },
          "metadata": {
            "needs_background": "light"
          }
        }
      ],
      "source": [
        "print(df['ChestPainType'].value_counts())\n",
        "\n",
        "plt.figure(figsize=(15,5))\n",
        "grafico = sns.countplot('ChestPainType', data=df)\n",
        "grafico.tick_params(axis='x', rotation=0)"
      ]
    },
    {
      "cell_type": "markdown",
      "metadata": {
        "id": "1EatVnLRLpos"
      },
      "source": [
        "RestingECG"
      ]
    },
    {
      "cell_type": "code",
      "execution_count": null,
      "metadata": {
        "colab": {
          "base_uri": "https://localhost:8080/",
          "height": 458
        },
        "id": "qKKXzTawLMsC",
        "outputId": "afef8989-1f9f-46b5-e9fe-a11846c7ab55"
      },
      "outputs": [
        {
          "output_type": "stream",
          "name": "stdout",
          "text": [
            "Normal    437\n",
            "LVH       172\n",
            "ST        124\n",
            "Name: RestingECG, dtype: int64\n"
          ]
        },
        {
          "output_type": "stream",
          "name": "stderr",
          "text": [
            "/usr/local/lib/python3.7/dist-packages/seaborn/_decorators.py:43: FutureWarning: Pass the following variable as a keyword arg: x. From version 0.12, the only valid positional argument will be `data`, and passing other arguments without an explicit keyword will result in an error or misinterpretation.\n",
            "  FutureWarning\n"
          ]
        },
        {
          "output_type": "display_data",
          "data": {
            "text/plain": [
              "<Figure size 1080x360 with 1 Axes>"
            ],
            "image/png": "[encoded data removed]"
          },
          "metadata": {
            "needs_background": "light"
          }
        }
      ],
      "source": [
        "print(df['RestingECG'].value_counts())\n",
        "\n",
        "plt.figure(figsize=(15,5))\n",
        "grafico = sns.countplot('RestingECG', data=df)\n",
        "grafico.tick_params(axis='x', rotation=0)"
      ]
    },
    {
      "cell_type": "markdown",
      "metadata": {
        "id": "z0zqqsxZLuj6"
      },
      "source": [
        "ExerciseAngina"
      ]
    },
    {
      "cell_type": "code",
      "execution_count": null,
      "metadata": {
        "colab": {
          "base_uri": "https://localhost:8080/",
          "height": 441
        },
        "id": "gB9PyUJ9LMpe",
        "outputId": "59c0c168-9fa4-4156-8a28-5d51a291234f"
      },
      "outputs": [
        {
          "output_type": "stream",
          "name": "stdout",
          "text": [
            "N    449\n",
            "Y    284\n",
            "Name: ExerciseAngina, dtype: int64\n"
          ]
        },
        {
          "output_type": "stream",
          "name": "stderr",
          "text": [
            "/usr/local/lib/python3.7/dist-packages/seaborn/_decorators.py:43: FutureWarning: Pass the following variable as a keyword arg: x. From version 0.12, the only valid positional argument will be `data`, and passing other arguments without an explicit keyword will result in an error or misinterpretation.\n",
            "  FutureWarning\n"
          ]
        },
        {
          "output_type": "display_data",
          "data": {
            "text/plain": [
              "<Figure size 1080x360 with 1 Axes>"
            ],
            "image/png": "[encoded data removed]"
          },
          "metadata": {
            "needs_background": "light"
          }
        }
      ],
      "source": [
        "print(df['ExerciseAngina'].value_counts())\n",
        "\n",
        "plt.figure(figsize=(15,5))\n",
        "grafico = sns.countplot('ExerciseAngina', data=df)\n",
        "grafico.tick_params(axis='x', rotation=0)"
      ]
    },
    {
      "cell_type": "markdown",
      "metadata": {
        "id": "k-EgndPLL0IJ"
      },
      "source": [
        "ST_Slope"
      ]
    },
    {
      "cell_type": "code",
      "execution_count": null,
      "metadata": {
        "colab": {
          "base_uri": "https://localhost:8080/",
          "height": 459
        },
        "id": "Ujo8poHfL1fD",
        "outputId": "555c2ef6-31d8-4c09-e37a-86f541728b70"
      },
      "outputs": [
        {
          "output_type": "stream",
          "name": "stdout",
          "text": [
            "Flat    346\n",
            "Up      345\n",
            "Down     42\n",
            "Name: ST_Slope, dtype: int64\n"
          ]
        },
        {
          "output_type": "stream",
          "name": "stderr",
          "text": [
            "/usr/local/lib/python3.7/dist-packages/seaborn/_decorators.py:43: FutureWarning: Pass the following variable as a keyword arg: x. From version 0.12, the only valid positional argument will be `data`, and passing other arguments without an explicit keyword will result in an error or misinterpretation.\n",
            "  FutureWarning\n"
          ]
        },
        {
          "output_type": "display_data",
          "data": {
            "text/plain": [
              "<Figure size 1080x360 with 1 Axes>"
            ],
            "image/png": "[encoded data removed]"
          },
          "metadata": {
            "needs_background": "light"
          }
        }
      ],
      "source": [
        "print(df['ST_Slope'].value_counts())\n",
        "\n",
        "plt.figure(figsize=(15,5))\n",
        "grafico = sns.countplot('ST_Slope', data=df)\n",
        "grafico.tick_params(axis='x', rotation=0)"
      ]
    },
    {
      "cell_type": "markdown",
      "metadata": {
        "id": "xHT1qDjcL-ld"
      },
      "source": [
        "### Encoding"
      ]
    },
    {
      "cell_type": "markdown",
      "source": [
        "### Encoding\n",
        "\n",
        "Precisamor Ajustar as features para facilitar o trabalho do modelo futuro (features de categoria, M e F, Y e N, etc.)\n",
        "\n",
        "- Features de Valores True ou False, vamos substituir True por 1 e False por 0.\n",
        "- Features de Categoria (features em que os valores da coluna são textos) vamos utilizar o método de encoding de variáveis dummies"
      ],
      "metadata": {
        "id": "cN8vUWz-drVF"
      }
    },
    {
      "cell_type": "markdown",
      "metadata": {
        "id": "hBFGw0UzMhlV"
      },
      "source": [
        "Importando bibliotecas"
      ]
    },
    {
      "cell_type": "code",
      "source": [
        "df_cod = df.copy()"
      ],
      "metadata": {
        "id": "wvqSyUH8jlub"
      },
      "execution_count": null,
      "outputs": []
    },
    {
      "cell_type": "code",
      "source": [
        "colunas_categorias = ['Sex', 'ExerciseAngina', 'ChestPainType', 'RestingECG', 'ST_Slope']\n",
        "df_cod = pd.get_dummies(data=df_cod, columns=colunas_categorias)\n",
        "display(df_cod.head())"
      ],
      "metadata": {
        "colab": {
          "base_uri": "https://localhost:8080/",
          "height": 299
        },
        "id": "XYiUWVkAeNEc",
        "outputId": "ee3de258-f4d6-419e-b3c2-d62732b4a088"
      },
      "execution_count": null,
      "outputs": [
        {
          "output_type": "display_data",
          "data": {
            "text/plain": [
              "   Age  RestingBP  Cholesterol  FastingBS  MaxHR  Oldpeak  HeartDisease  \\\n",
              "0   40        140          289          0    172      0.0             0   \n",
              "1   49        160          180          0    156      1.0             1   \n",
              "2   37        130          283          0     98      0.0             0   \n",
              "3   48        138          214          0    108      1.5             1   \n",
              "4   54        150          195          0    122      0.0             0   \n",
              "\n",
              "   Sex_F  Sex_M  ExerciseAngina_N  ...  ChestPainType_ASY  ChestPainType_ATA  \\\n",
              "0      0      1                 1  ...                  0                  1   \n",
              "1      1      0                 1  ...                  0                  0   \n",
              "2      0      1                 1  ...                  0                  1   \n",
              "3      1      0                 0  ...                  1                  0   \n",
              "4      0      1                 1  ...                  0                  0   \n",
              "\n",
              "   ChestPainType_NAP  ChestPainType_TA  RestingECG_LVH  RestingECG_Normal  \\\n",
              "0                  0                 0               0                  1   \n",
              "1                  1                 0               0                  1   \n",
              "2                  0                 0               0                  0   \n",
              "3                  0                 0               0                  1   \n",
              "4                  1                 0               0                  1   \n",
              "\n",
              "   RestingECG_ST  ST_Slope_Down  ST_Slope_Flat  ST_Slope_Up  \n",
              "0              0              0              0            1  \n",
              "1              0              0              1            0  \n",
              "2              1              0              0            1  \n",
              "3              0              0              1            0  \n",
              "4              0              0              0            1  \n",
              "\n",
              "[5 rows x 21 columns]"
            ],
            "text/html": [
              "\n",
              "  <div id=\"df-1ac01690-6742-483b-8890-92f8f068137a\">\n",
              "    <div class=\"colab-df-container\">\n",
              "      <div>\n",
              "<style scoped>\n",
              "    .dataframe tbody tr th:only-of-type {\n",
              "        vertical-align: middle;\n",
              "    }\n",
              "\n",
              "    .dataframe tbody tr th {\n",
              "        vertical-align: top;\n",
              "    }\n",
              "\n",
              "    .dataframe thead th {\n",
              "        text-align: right;\n",
              "    }\n",
              "</style>\n",
              "<table border=\"1\" class=\"dataframe\">\n",
              "  <thead>\n",
              "    <tr style=\"text-align: right;\">\n",
              "      <th></th>\n",
              "      <th>Age</th>\n",
              "      <th>RestingBP</th>\n",
              "      <th>Cholesterol</th>\n",
              "      <th>FastingBS</th>\n",
              "      <th>MaxHR</th>\n",
              "      <th>Oldpeak</th>\n",
              "      <th>HeartDisease</th>\n",
              "      <th>Sex_F</th>\n",
              "      <th>Sex_M</th>\n",
              "      <th>ExerciseAngina_N</th>\n",
              "      <th>...</th>\n",
              "      <th>ChestPainType_ASY</th>\n",
              "      <th>ChestPainType_ATA</th>\n",
              "      <th>ChestPainType_NAP</th>\n",
              "      <th>ChestPainType_TA</th>\n",
              "      <th>RestingECG_LVH</th>\n",
              "      <th>RestingECG_Normal</th>\n",
              "      <th>RestingECG_ST</th>\n",
              "      <th>ST_Slope_Down</th>\n",
              "      <th>ST_Slope_Flat</th>\n",
              "      <th>ST_Slope_Up</th>\n",
              "    </tr>\n",
              "  </thead>\n",
              "  <tbody>\n",
              "    <tr>\n",
              "      <th>0</th>\n",
              "      <td>40</td>\n",
              "      <td>140</td>\n",
              "      <td>289</td>\n",
              "      <td>0</td>\n",
              "      <td>172</td>\n",
              "      <td>0.0</td>\n",
              "      <td>0</td>\n",
              "      <td>0</td>\n",
              "      <td>1</td>\n",
              "      <td>1</td>\n",
              "      <td>...</td>\n",
              "      <td>0</td>\n",
              "      <td>1</td>\n",
              "      <td>0</td>\n",
              "      <td>0</td>\n",
              "      <td>0</td>\n",
              "      <td>1</td>\n",
              "      <td>0</td>\n",
              "      <td>0</td>\n",
              "      <td>0</td>\n",
              "      <td>1</td>\n",
              "    </tr>\n",
              "    <tr>\n",
              "      <th>1</th>\n",
              "      <td>49</td>\n",
              "      <td>160</td>\n",
              "      <td>180</td>\n",
              "      <td>0</td>\n",
              "      <td>156</td>\n",
              "      <td>1.0</td>\n",
              "      <td>1</td>\n",
              "      <td>1</td>\n",
              "      <td>0</td>\n",
              "      <td>1</td>\n",
              "      <td>...</td>\n",
              "      <td>0</td>\n",
              "      <td>0</td>\n",
              "      <td>1</td>\n",
              "      <td>0</td>\n",
              "      <td>0</td>\n",
              "      <td>1</td>\n",
              "      <td>0</td>\n",
              "      <td>0</td>\n",
              "      <td>1</td>\n",
              "      <td>0</td>\n",
              "    </tr>\n",
              "    <tr>\n",
              "      <th>2</th>\n",
              "      <td>37</td>\n",
              "      <td>130</td>\n",
              "      <td>283</td>\n",
              "      <td>0</td>\n",
              "      <td>98</td>\n",
              "      <td>0.0</td>\n",
              "      <td>0</td>\n",
              "      <td>0</td>\n",
              "      <td>1</td>\n",
              "      <td>1</td>\n",
              "      <td>...</td>\n",
              "      <td>0</td>\n",
              "      <td>1</td>\n",
              "      <td>0</td>\n",
              "      <td>0</td>\n",
              "      <td>0</td>\n",
              "      <td>0</td>\n",
              "      <td>1</td>\n",
              "      <td>0</td>\n",
              "      <td>0</td>\n",
              "      <td>1</td>\n",
              "    </tr>\n",
              "    <tr>\n",
              "      <th>3</th>\n",
              "      <td>48</td>\n",
              "      <td>138</td>\n",
              "      <td>214</td>\n",
              "      <td>0</td>\n",
              "      <td>108</td>\n",
              "      <td>1.5</td>\n",
              "      <td>1</td>\n",
              "      <td>1</td>\n",
              "      <td>0</td>\n",
              "      <td>0</td>\n",
              "      <td>...</td>\n",
              "      <td>1</td>\n",
              "      <td>0</td>\n",
              "      <td>0</td>\n",
              "      <td>0</td>\n",
              "      <td>0</td>\n",
              "      <td>1</td>\n",
              "      <td>0</td>\n",
              "      <td>0</td>\n",
              "      <td>1</td>\n",
              "      <td>0</td>\n",
              "    </tr>\n",
              "    <tr>\n",
              "      <th>4</th>\n",
              "      <td>54</td>\n",
              "      <td>150</td>\n",
              "      <td>195</td>\n",
              "      <td>0</td>\n",
              "      <td>122</td>\n",
              "      <td>0.0</td>\n",
              "      <td>0</td>\n",
              "      <td>0</td>\n",
              "      <td>1</td>\n",
              "      <td>1</td>\n",
              "      <td>...</td>\n",
              "      <td>0</td>\n",
              "      <td>0</td>\n",
              "      <td>1</td>\n",
              "      <td>0</td>\n",
              "      <td>0</td>\n",
              "      <td>1</td>\n",
              "      <td>0</td>\n",
              "      <td>0</td>\n",
              "      <td>0</td>\n",
              "      <td>1</td>\n",
              "    </tr>\n",
              "  </tbody>\n",
              "</table>\n",
              "<p>5 rows × 21 columns</p>\n",
              "</div>\n",
              "      <button class=\"colab-df-convert\" onclick=\"convertToInteractive('df-1ac01690-6742-483b-8890-92f8f068137a')\"\n",
              "              title=\"Convert this dataframe to an interactive table.\"\n",
              "              style=\"display:none;\">\n",
              "        \n",
              "  <svg xmlns=\"http://www.w3.org/2000/svg\" height=\"24px\"viewBox=\"0 0 24 24\"\n",
              "       width=\"24px\">\n",
              "    <path d=\"M0 0h24v24H0V0z\" fill=\"none\"/>\n",
              "    <path d=\"M18.56 5.44l.94 2.06.94-2.06 2.06-.94-2.06-.94-.94-2.06-.94 2.06-2.06.94zm-11 1L8.5 8.5l.94-2.06 2.06-.94-2.06-.94L8.5 2.5l-.94 2.06-2.06.94zm10 10l.94 2.06.94-2.06 2.06-.94-2.06-.94-.94-2.06-.94 2.06-2.06.94z\"/><path d=\"M17.41 7.96l-1.37-1.37c-.4-.4-.92-.59-1.43-.59-.52 0-1.04.2-1.43.59L10.3 9.45l-7.72 7.72c-.78.78-.78 2.05 0 2.83L4 21.41c.39.39.9.59 1.41.59.51 0 1.02-.2 1.41-.59l7.78-7.78 2.81-2.81c.8-.78.8-2.07 0-2.86zM5.41 20L4 18.59l7.72-7.72 1.47 1.35L5.41 20z\"/>\n",
              "  </svg>\n",
              "      </button>\n",
              "      \n",
              "  <style>\n",
              "    .colab-df-container {\n",
              "      display:flex;\n",
              "      flex-wrap:wrap;\n",
              "      gap: 12px;\n",
              "    }\n",
              "\n",
              "    .colab-df-convert {\n",
              "      background-color: #E8F0FE;\n",
              "      border: none;\n",
              "      border-radius: 50%;\n",
              "      cursor: pointer;\n",
              "      display: none;\n",
              "      fill: #1967D2;\n",
              "      height: 32px;\n",
              "      padding: 0 0 0 0;\n",
              "      width: 32px;\n",
              "    }\n",
              "\n",
              "    .colab-df-convert:hover {\n",
              "      background-color: #E2EBFA;\n",
              "      box-shadow: 0px 1px 2px rgba(60, 64, 67, 0.3), 0px 1px 3px 1px rgba(60, 64, 67, 0.15);\n",
              "      fill: #174EA6;\n",
              "    }\n",
              "\n",
              "    [theme=dark] .colab-df-convert {\n",
              "      background-color: #3B4455;\n",
              "      fill: #D2E3FC;\n",
              "    }\n",
              "\n",
              "    [theme=dark] .colab-df-convert:hover {\n",
              "      background-color: #434B5C;\n",
              "      box-shadow: 0px 1px 3px 1px rgba(0, 0, 0, 0.15);\n",
              "      filter: drop-shadow(0px 1px 2px rgba(0, 0, 0, 0.3));\n",
              "      fill: #FFFFFF;\n",
              "    }\n",
              "  </style>\n",
              "\n",
              "      <script>\n",
              "        const buttonEl =\n",
              "          document.querySelector('#df-1ac01690-6742-483b-8890-92f8f068137a button.colab-df-convert');\n",
              "        buttonEl.style.display =\n",
              "          google.colab.kernel.accessAllowed ? 'block' : 'none';\n",
              "\n",
              "        async function convertToInteractive(key) {\n",
              "          const element = document.querySelector('#df-1ac01690-6742-483b-8890-92f8f068137a');\n",
              "          const dataTable =\n",
              "            await google.colab.kernel.invokeFunction('convertToInteractive',\n",
              "                                                     [key], {});\n",
              "          if (!dataTable) return;\n",
              "\n",
              "          const docLinkHtml = 'Like what you see? Visit the ' +\n",
              "            '<a target=\"_blank\" href=https://colab.research.google.com/notebooks/data_table.ipynb>data table notebook</a>'\n",
              "            + ' to learn more about interactive tables.';\n",
              "          element.innerHTML = '';\n",
              "          dataTable['output_type'] = 'display_data';\n",
              "          await google.colab.output.renderOutput(dataTable, element);\n",
              "          const docLink = document.createElement('div');\n",
              "          docLink.innerHTML = docLinkHtml;\n",
              "          element.appendChild(docLink);\n",
              "        }\n",
              "      </script>\n",
              "    </div>\n",
              "  </div>\n",
              "  "
            ]
          },
          "metadata": {}
        }
      ]
    },
    {
      "cell_type": "code",
      "execution_count": null,
      "metadata": {
        "colab": {
          "base_uri": "https://localhost:8080/"
        },
        "id": "RuaS4pveOYKu",
        "outputId": "221a60ea-a311-4654-e399-a9f76401aba4"
      },
      "outputs": [
        {
          "output_type": "stream",
          "name": "stdout",
          "text": [
            "<class 'pandas.core.frame.DataFrame'>\n",
            "Int64Index: 733 entries, 0 to 917\n",
            "Data columns (total 21 columns):\n",
            " #   Column             Non-Null Count  Dtype  \n",
            "---  ------             --------------  -----  \n",
            " 0   Age                733 non-null    int64  \n",
            " 1   RestingBP          733 non-null    int64  \n",
            " 2   Cholesterol        733 non-null    int64  \n",
            " 3   FastingBS          733 non-null    int64  \n",
            " 4   MaxHR              733 non-null    int64  \n",
            " 5   Oldpeak            733 non-null    float64\n",
            " 6   HeartDisease       733 non-null    int64  \n",
            " 7   Sex_F              733 non-null    uint8  \n",
            " 8   Sex_M              733 non-null    uint8  \n",
            " 9   ExerciseAngina_N   733 non-null    uint8  \n",
            " 10  ExerciseAngina_Y   733 non-null    uint8  \n",
            " 11  ChestPainType_ASY  733 non-null    uint8  \n",
            " 12  ChestPainType_ATA  733 non-null    uint8  \n",
            " 13  ChestPainType_NAP  733 non-null    uint8  \n",
            " 14  ChestPainType_TA   733 non-null    uint8  \n",
            " 15  RestingECG_LVH     733 non-null    uint8  \n",
            " 16  RestingECG_Normal  733 non-null    uint8  \n",
            " 17  RestingECG_ST      733 non-null    uint8  \n",
            " 18  ST_Slope_Down      733 non-null    uint8  \n",
            " 19  ST_Slope_Flat      733 non-null    uint8  \n",
            " 20  ST_Slope_Up        733 non-null    uint8  \n",
            "dtypes: float64(1), int64(6), uint8(14)\n",
            "memory usage: 72.0 KB\n"
          ]
        }
      ],
      "source": [
        "df_cod.info()"
      ]
    },
    {
      "cell_type": "code",
      "source": [
        "display(df_cod)"
      ],
      "metadata": {
        "colab": {
          "base_uri": "https://localhost:8080/",
          "height": 488
        },
        "id": "8L9pNQ0QMqsL",
        "outputId": "9a3244ea-ccc8-473b-8dff-311973b02ce8"
      },
      "execution_count": null,
      "outputs": [
        {
          "output_type": "display_data",
          "data": {
            "text/plain": [
              "     Age  RestingBP  Cholesterol  FastingBS  MaxHR  Oldpeak  HeartDisease  \\\n",
              "0     40        140          289          0    172      0.0             0   \n",
              "1     49        160          180          0    156      1.0             1   \n",
              "2     37        130          283          0     98      0.0             0   \n",
              "3     48        138          214          0    108      1.5             1   \n",
              "4     54        150          195          0    122      0.0             0   \n",
              "..   ...        ...          ...        ...    ...      ...           ...   \n",
              "913   45        110          264          0    132      1.2             1   \n",
              "914   68        144          193          1    141      3.4             1   \n",
              "915   57        130          131          0    115      1.2             1   \n",
              "916   57        130          236          0    174      0.0             1   \n",
              "917   38        138          175          0    173      0.0             0   \n",
              "\n",
              "     Sex_F  Sex_M  ExerciseAngina_N  ...  ChestPainType_ASY  \\\n",
              "0        0      1                 1  ...                  0   \n",
              "1        1      0                 1  ...                  0   \n",
              "2        0      1                 1  ...                  0   \n",
              "3        1      0                 0  ...                  1   \n",
              "4        0      1                 1  ...                  0   \n",
              "..     ...    ...               ...  ...                ...   \n",
              "913      0      1                 1  ...                  0   \n",
              "914      0      1                 1  ...                  1   \n",
              "915      0      1                 0  ...                  1   \n",
              "916      1      0                 1  ...                  0   \n",
              "917      0      1                 1  ...                  0   \n",
              "\n",
              "     ChestPainType_ATA  ChestPainType_NAP  ChestPainType_TA  RestingECG_LVH  \\\n",
              "0                    1                  0                 0               0   \n",
              "1                    0                  1                 0               0   \n",
              "2                    1                  0                 0               0   \n",
              "3                    0                  0                 0               0   \n",
              "4                    0                  1                 0               0   \n",
              "..                 ...                ...               ...             ...   \n",
              "913                  0                  0                 1               0   \n",
              "914                  0                  0                 0               0   \n",
              "915                  0                  0                 0               0   \n",
              "916                  1                  0                 0               1   \n",
              "917                  0                  1                 0               0   \n",
              "\n",
              "     RestingECG_Normal  RestingECG_ST  ST_Slope_Down  ST_Slope_Flat  \\\n",
              "0                    1              0              0              0   \n",
              "1                    1              0              0              1   \n",
              "2                    0              1              0              0   \n",
              "3                    1              0              0              1   \n",
              "4                    1              0              0              0   \n",
              "..                 ...            ...            ...            ...   \n",
              "913                  1              0              0              1   \n",
              "914                  1              0              0              1   \n",
              "915                  1              0              0              1   \n",
              "916                  0              0              0              1   \n",
              "917                  1              0              0              0   \n",
              "\n",
              "     ST_Slope_Up  \n",
              "0              1  \n",
              "1              0  \n",
              "2              1  \n",
              "3              0  \n",
              "4              1  \n",
              "..           ...  \n",
              "913            0  \n",
              "914            0  \n",
              "915            0  \n",
              "916            0  \n",
              "917            1  \n",
              "\n",
              "[733 rows x 21 columns]"
            ],
            "text/html": [
              "\n",
              "  <div id=\"df-27e8b6da-2b33-457e-aefe-e88137872b1b\">\n",
              "    <div class=\"colab-df-container\">\n",
              "      <div>\n",
              "<style scoped>\n",
              "    .dataframe tbody tr th:only-of-type {\n",
              "        vertical-align: middle;\n",
              "    }\n",
              "\n",
              "    .dataframe tbody tr th {\n",
              "        vertical-align: top;\n",
              "    }\n",
              "\n",
              "    .dataframe thead th {\n",
              "        text-align: right;\n",
              "    }\n",
              "</style>\n",
              "<table border=\"1\" class=\"dataframe\">\n",
              "  <thead>\n",
              "    <tr style=\"text-align: right;\">\n",
              "      <th></th>\n",
              "      <th>Age</th>\n",
              "      <th>RestingBP</th>\n",
              "      <th>Cholesterol</th>\n",
              "      <th>FastingBS</th>\n",
              "      <th>MaxHR</th>\n",
              "      <th>Oldpeak</th>\n",
              "      <th>HeartDisease</th>\n",
              "      <th>Sex_F</th>\n",
              "      <th>Sex_M</th>\n",
              "      <th>ExerciseAngina_N</th>\n",
              "      <th>...</th>\n",
              "      <th>ChestPainType_ASY</th>\n",
              "      <th>ChestPainType_ATA</th>\n",
              "      <th>ChestPainType_NAP</th>\n",
              "      <th>ChestPainType_TA</th>\n",
              "      <th>RestingECG_LVH</th>\n",
              "      <th>RestingECG_Normal</th>\n",
              "      <th>RestingECG_ST</th>\n",
              "      <th>ST_Slope_Down</th>\n",
              "      <th>ST_Slope_Flat</th>\n",
              "      <th>ST_Slope_Up</th>\n",
              "    </tr>\n",
              "  </thead>\n",
              "  <tbody>\n",
              "    <tr>\n",
              "      <th>0</th>\n",
              "      <td>40</td>\n",
              "      <td>140</td>\n",
              "      <td>289</td>\n",
              "      <td>0</td>\n",
              "      <td>172</td>\n",
              "      <td>0.0</td>\n",
              "      <td>0</td>\n",
              "      <td>0</td>\n",
              "      <td>1</td>\n",
              "      <td>1</td>\n",
              "      <td>...</td>\n",
              "      <td>0</td>\n",
              "      <td>1</td>\n",
              "      <td>0</td>\n",
              "      <td>0</td>\n",
              "      <td>0</td>\n",
              "      <td>1</td>\n",
              "      <td>0</td>\n",
              "      <td>0</td>\n",
              "      <td>0</td>\n",
              "      <td>1</td>\n",
              "    </tr>\n",
              "    <tr>\n",
              "      <th>1</th>\n",
              "      <td>49</td>\n",
              "      <td>160</td>\n",
              "      <td>180</td>\n",
              "      <td>0</td>\n",
              "      <td>156</td>\n",
              "      <td>1.0</td>\n",
              "      <td>1</td>\n",
              "      <td>1</td>\n",
              "      <td>0</td>\n",
              "      <td>1</td>\n",
              "      <td>...</td>\n",
              "      <td>0</td>\n",
              "      <td>0</td>\n",
              "      <td>1</td>\n",
              "      <td>0</td>\n",
              "      <td>0</td>\n",
              "      <td>1</td>\n",
              "      <td>0</td>\n",
              "      <td>0</td>\n",
              "      <td>1</td>\n",
              "      <td>0</td>\n",
              "    </tr>\n",
              "    <tr>\n",
              "      <th>2</th>\n",
              "      <td>37</td>\n",
              "      <td>130</td>\n",
              "      <td>283</td>\n",
              "      <td>0</td>\n",
              "      <td>98</td>\n",
              "      <td>0.0</td>\n",
              "      <td>0</td>\n",
              "      <td>0</td>\n",
              "      <td>1</td>\n",
              "      <td>1</td>\n",
              "      <td>...</td>\n",
              "      <td>0</td>\n",
              "      <td>1</td>\n",
              "      <td>0</td>\n",
              "      <td>0</td>\n",
              "      <td>0</td>\n",
              "      <td>0</td>\n",
              "      <td>1</td>\n",
              "      <td>0</td>\n",
              "      <td>0</td>\n",
              "      <td>1</td>\n",
              "    </tr>\n",
              "    <tr>\n",
              "      <th>3</th>\n",
              "      <td>48</td>\n",
              "      <td>138</td>\n",
              "      <td>214</td>\n",
              "      <td>0</td>\n",
              "      <td>108</td>\n",
              "      <td>1.5</td>\n",
              "      <td>1</td>\n",
              "      <td>1</td>\n",
              "      <td>0</td>\n",
              "      <td>0</td>\n",
              "      <td>...</td>\n",
              "      <td>1</td>\n",
              "      <td>0</td>\n",
              "      <td>0</td>\n",
              "      <td>0</td>\n",
              "      <td>0</td>\n",
              "      <td>1</td>\n",
              "      <td>0</td>\n",
              "      <td>0</td>\n",
              "      <td>1</td>\n",
              "      <td>0</td>\n",
              "    </tr>\n",
              "    <tr>\n",
              "      <th>4</th>\n",
              "      <td>54</td>\n",
              "      <td>150</td>\n",
              "      <td>195</td>\n",
              "      <td>0</td>\n",
              "      <td>122</td>\n",
              "      <td>0.0</td>\n",
              "      <td>0</td>\n",
              "      <td>0</td>\n",
              "      <td>1</td>\n",
              "      <td>1</td>\n",
              "      <td>...</td>\n",
              "      <td>0</td>\n",
              "      <td>0</td>\n",
              "      <td>1</td>\n",
              "      <td>0</td>\n",
              "      <td>0</td>\n",
              "      <td>1</td>\n",
              "      <td>0</td>\n",
              "      <td>0</td>\n",
              "      <td>0</td>\n",
              "      <td>1</td>\n",
              "    </tr>\n",
              "    <tr>\n",
              "      <th>...</th>\n",
              "      <td>...</td>\n",
              "      <td>...</td>\n",
              "      <td>...</td>\n",
              "      <td>...</td>\n",
              "      <td>...</td>\n",
              "      <td>...</td>\n",
              "      <td>...</td>\n",
              "      <td>...</td>\n",
              "      <td>...</td>\n",
              "      <td>...</td>\n",
              "      <td>...</td>\n",
              "      <td>...</td>\n",
              "      <td>...</td>\n",
              "      <td>...</td>\n",
              "      <td>...</td>\n",
              "      <td>...</td>\n",
              "      <td>...</td>\n",
              "      <td>...</td>\n",
              "      <td>...</td>\n",
              "      <td>...</td>\n",
              "      <td>...</td>\n",
              "    </tr>\n",
              "    <tr>\n",
              "      <th>913</th>\n",
              "      <td>45</td>\n",
              "      <td>110</td>\n",
              "      <td>264</td>\n",
              "      <td>0</td>\n",
              "      <td>132</td>\n",
              "      <td>1.2</td>\n",
              "      <td>1</td>\n",
              "      <td>0</td>\n",
              "      <td>1</td>\n",
              "      <td>1</td>\n",
              "      <td>...</td>\n",
              "      <td>0</td>\n",
              "      <td>0</td>\n",
              "      <td>0</td>\n",
              "      <td>1</td>\n",
              "      <td>0</td>\n",
              "      <td>1</td>\n",
              "      <td>0</td>\n",
              "      <td>0</td>\n",
              "      <td>1</td>\n",
              "      <td>0</td>\n",
              "    </tr>\n",
              "    <tr>\n",
              "      <th>914</th>\n",
              "      <td>68</td>\n",
              "      <td>144</td>\n",
              "      <td>193</td>\n",
              "      <td>1</td>\n",
              "      <td>141</td>\n",
              "      <td>3.4</td>\n",
              "      <td>1</td>\n",
              "      <td>0</td>\n",
              "      <td>1</td>\n",
              "      <td>1</td>\n",
              "      <td>...</td>\n",
              "      <td>1</td>\n",
              "      <td>0</td>\n",
              "      <td>0</td>\n",
              "      <td>0</td>\n",
              "      <td>0</td>\n",
              "      <td>1</td>\n",
              "      <td>0</td>\n",
              "      <td>0</td>\n",
              "      <td>1</td>\n",
              "      <td>0</td>\n",
              "    </tr>\n",
              "    <tr>\n",
              "      <th>915</th>\n",
              "      <td>57</td>\n",
              "      <td>130</td>\n",
              "      <td>131</td>\n",
              "      <td>0</td>\n",
              "      <td>115</td>\n",
              "      <td>1.2</td>\n",
              "      <td>1</td>\n",
              "      <td>0</td>\n",
              "      <td>1</td>\n",
              "      <td>0</td>\n",
              "      <td>...</td>\n",
              "      <td>1</td>\n",
              "      <td>0</td>\n",
              "      <td>0</td>\n",
              "      <td>0</td>\n",
              "      <td>0</td>\n",
              "      <td>1</td>\n",
              "      <td>0</td>\n",
              "      <td>0</td>\n",
              "      <td>1</td>\n",
              "      <td>0</td>\n",
              "    </tr>\n",
              "    <tr>\n",
              "      <th>916</th>\n",
              "      <td>57</td>\n",
              "      <td>130</td>\n",
              "      <td>236</td>\n",
              "      <td>0</td>\n",
              "      <td>174</td>\n",
              "      <td>0.0</td>\n",
              "      <td>1</td>\n",
              "      <td>1</td>\n",
              "      <td>0</td>\n",
              "      <td>1</td>\n",
              "      <td>...</td>\n",
              "      <td>0</td>\n",
              "      <td>1</td>\n",
              "      <td>0</td>\n",
              "      <td>0</td>\n",
              "      <td>1</td>\n",
              "      <td>0</td>\n",
              "      <td>0</td>\n",
              "      <td>0</td>\n",
              "      <td>1</td>\n",
              "      <td>0</td>\n",
              "    </tr>\n",
              "    <tr>\n",
              "      <th>917</th>\n",
              "      <td>38</td>\n",
              "      <td>138</td>\n",
              "      <td>175</td>\n",
              "      <td>0</td>\n",
              "      <td>173</td>\n",
              "      <td>0.0</td>\n",
              "      <td>0</td>\n",
              "      <td>0</td>\n",
              "      <td>1</td>\n",
              "      <td>1</td>\n",
              "      <td>...</td>\n",
              "      <td>0</td>\n",
              "      <td>0</td>\n",
              "      <td>1</td>\n",
              "      <td>0</td>\n",
              "      <td>0</td>\n",
              "      <td>1</td>\n",
              "      <td>0</td>\n",
              "      <td>0</td>\n",
              "      <td>0</td>\n",
              "      <td>1</td>\n",
              "    </tr>\n",
              "  </tbody>\n",
              "</table>\n",
              "<p>733 rows × 21 columns</p>\n",
              "</div>\n",
              "      <button class=\"colab-df-convert\" onclick=\"convertToInteractive('df-27e8b6da-2b33-457e-aefe-e88137872b1b')\"\n",
              "              title=\"Convert this dataframe to an interactive table.\"\n",
              "              style=\"display:none;\">\n",
              "        \n",
              "  <svg xmlns=\"http://www.w3.org/2000/svg\" height=\"24px\"viewBox=\"0 0 24 24\"\n",
              "       width=\"24px\">\n",
              "    <path d=\"M0 0h24v24H0V0z\" fill=\"none\"/>\n",
              "    <path d=\"M18.56 5.44l.94 2.06.94-2.06 2.06-.94-2.06-.94-.94-2.06-.94 2.06-2.06.94zm-11 1L8.5 8.5l.94-2.06 2.06-.94-2.06-.94L8.5 2.5l-.94 2.06-2.06.94zm10 10l.94 2.06.94-2.06 2.06-.94-2.06-.94-.94-2.06-.94 2.06-2.06.94z\"/><path d=\"M17.41 7.96l-1.37-1.37c-.4-.4-.92-.59-1.43-.59-.52 0-1.04.2-1.43.59L10.3 9.45l-7.72 7.72c-.78.78-.78 2.05 0 2.83L4 21.41c.39.39.9.59 1.41.59.51 0 1.02-.2 1.41-.59l7.78-7.78 2.81-2.81c.8-.78.8-2.07 0-2.86zM5.41 20L4 18.59l7.72-7.72 1.47 1.35L5.41 20z\"/>\n",
              "  </svg>\n",
              "      </button>\n",
              "      \n",
              "  <style>\n",
              "    .colab-df-container {\n",
              "      display:flex;\n",
              "      flex-wrap:wrap;\n",
              "      gap: 12px;\n",
              "    }\n",
              "\n",
              "    .colab-df-convert {\n",
              "      background-color: #E8F0FE;\n",
              "      border: none;\n",
              "      border-radius: 50%;\n",
              "      cursor: pointer;\n",
              "      display: none;\n",
              "      fill: #1967D2;\n",
              "      height: 32px;\n",
              "      padding: 0 0 0 0;\n",
              "      width: 32px;\n",
              "    }\n",
              "\n",
              "    .colab-df-convert:hover {\n",
              "      background-color: #E2EBFA;\n",
              "      box-shadow: 0px 1px 2px rgba(60, 64, 67, 0.3), 0px 1px 3px 1px rgba(60, 64, 67, 0.15);\n",
              "      fill: #174EA6;\n",
              "    }\n",
              "\n",
              "    [theme=dark] .colab-df-convert {\n",
              "      background-color: #3B4455;\n",
              "      fill: #D2E3FC;\n",
              "    }\n",
              "\n",
              "    [theme=dark] .colab-df-convert:hover {\n",
              "      background-color: #434B5C;\n",
              "      box-shadow: 0px 1px 3px 1px rgba(0, 0, 0, 0.15);\n",
              "      filter: drop-shadow(0px 1px 2px rgba(0, 0, 0, 0.3));\n",
              "      fill: #FFFFFF;\n",
              "    }\n",
              "  </style>\n",
              "\n",
              "      <script>\n",
              "        const buttonEl =\n",
              "          document.querySelector('#df-27e8b6da-2b33-457e-aefe-e88137872b1b button.colab-df-convert');\n",
              "        buttonEl.style.display =\n",
              "          google.colab.kernel.accessAllowed ? 'block' : 'none';\n",
              "\n",
              "        async function convertToInteractive(key) {\n",
              "          const element = document.querySelector('#df-27e8b6da-2b33-457e-aefe-e88137872b1b');\n",
              "          const dataTable =\n",
              "            await google.colab.kernel.invokeFunction('convertToInteractive',\n",
              "                                                     [key], {});\n",
              "          if (!dataTable) return;\n",
              "\n",
              "          const docLinkHtml = 'Like what you see? Visit the ' +\n",
              "            '<a target=\"_blank\" href=https://colab.research.google.com/notebooks/data_table.ipynb>data table notebook</a>'\n",
              "            + ' to learn more about interactive tables.';\n",
              "          element.innerHTML = '';\n",
              "          dataTable['output_type'] = 'display_data';\n",
              "          await google.colab.output.renderOutput(dataTable, element);\n",
              "          const docLink = document.createElement('div');\n",
              "          docLink.innerHTML = docLinkHtml;\n",
              "          element.appendChild(docLink);\n",
              "        }\n",
              "      </script>\n",
              "    </div>\n",
              "  </div>\n",
              "  "
            ]
          },
          "metadata": {}
        }
      ]
    },
    {
      "cell_type": "markdown",
      "metadata": {
        "id": "HecKQEtjQcKj"
      },
      "source": [
        "### Modelo de Previsão\n",
        "\n"
      ]
    },
    {
      "cell_type": "markdown",
      "metadata": {
        "id": "KfEdBUlUSiTB"
      },
      "source": [
        "Importando bibliotecas para as métricas de avaliação"
      ]
    },
    {
      "cell_type": "code",
      "execution_count": null,
      "metadata": {
        "id": "VGNxD-RVTAmE"
      },
      "outputs": [],
      "source": [
        "from sklearn.metrics import accuracy_score, precision_score, recall_score, f1_score"
      ]
    },
    {
      "cell_type": "markdown",
      "metadata": {
        "id": "n_mkP85eSjkp"
      },
      "source": [
        "Metricas de Avaliação"
      ]
    },
    {
      "cell_type": "code",
      "execution_count": null,
      "metadata": {
        "id": "ZSu55cXLVpxR"
      },
      "outputs": [],
      "source": [
        "def avaliar_modelo(nome_modelo, y_test, previsao):\n",
        "  Accuracy = accuracy_score(y_test, previsao)\n",
        "  Precisao = precision_score(y_test, previsao)\n",
        "  Recall = recall_score(y_test, previsao)\n",
        "  F1 = f1_score(y_test, previsao)\n",
        "  return f'Modelo {nome_modelo}:\\nAccuracy:{Accuracy:.2%}\\nPrecision:{Precisao:.2%}\\nRecall:{Recall:.2%}\\nF1_score:{F1:.2%}'\n"
      ]
    },
    {
      "cell_type": "markdown",
      "metadata": {
        "id": "rdWPi82iWj0g"
      },
      "source": [
        "### Modelos utilizados"
      ]
    },
    {
      "cell_type": "markdown",
      "metadata": {
        "id": "-EuFJfA2Ys5o"
      },
      "source": [
        "- LogisticRegression\n",
        "- KNeighborsClassifier\n",
        "- DecisionTreeClassifier\n",
        "- RandomForestClassifier\n",
        "- GaussianNB"
      ]
    },
    {
      "cell_type": "markdown",
      "metadata": {
        "id": "QRJfqfAaaaTr"
      },
      "source": [
        "Importando bibliotecas dos modelos"
      ]
    },
    {
      "cell_type": "code",
      "execution_count": null,
      "metadata": {
        "id": "ja8G4-kpaedL"
      },
      "outputs": [],
      "source": [
        "from sklearn.linear_model import LogisticRegression\n",
        "from sklearn.neighbors import KNeighborsClassifier\n",
        "from sklearn.tree import DecisionTreeClassifier\n",
        "from sklearn.ensemble import RandomForestClassifier\n",
        "from sklearn.naive_bayes import GaussianNB"
      ]
    },
    {
      "cell_type": "code",
      "execution_count": null,
      "metadata": {
        "id": "ZElHqR3Qb67u"
      },
      "outputs": [],
      "source": [
        "modelo_lr = LogisticRegression(solver = 'lbfgs', max_iter = 100)\n",
        "modelo_knc = KNeighborsClassifier(n_neighbors=6)\n",
        "modelo_dtc = DecisionTreeClassifier()\n",
        "modelo_rfc = RandomForestClassifier(n_estimators=100)\n",
        "modelo_gnb = GaussianNB()\n",
        "\n",
        "\n",
        "modelos = {'LogisticRegression': modelo_lr,\n",
        "           'KNeighborsClassifier': modelo_knc,\n",
        "           'DecisionTreeClassifier': modelo_dtc,\n",
        "           'RandomForestClassifier': modelo_rfc,\n",
        "           'GaussianNB': modelo_gnb\n",
        "           }\n",
        "\n",
        "y = df_cod['HeartDisease']\n",
        "X = df_cod.drop('HeartDisease', axis=1)"
      ]
    },
    {
      "cell_type": "markdown",
      "metadata": {
        "id": "iLKz5POAdKEX"
      },
      "source": [
        "Separando os dados em treino e teste, e treinando o modelo"
      ]
    },
    {
      "cell_type": "code",
      "execution_count": null,
      "metadata": {
        "id": "ol13LxUFdc5q"
      },
      "outputs": [],
      "source": [
        "from sklearn.model_selection import train_test_split\n",
        "from sklearn.preprocessing import StandardScaler\n"
      ]
    },
    {
      "cell_type": "code",
      "execution_count": null,
      "metadata": {
        "id": "32ozp2k15VPl"
      },
      "outputs": [],
      "source": [
        "X_train, X_test, y_train, y_test = train_test_split(X, y, random_state=10)"
      ]
    },
    {
      "cell_type": "code",
      "execution_count": null,
      "metadata": {
        "id": "hKnd7qyh3gc3"
      },
      "outputs": [],
      "source": [
        "std_scaler = StandardScaler()\n",
        "std_scaler.fit(X)\n",
        "X_train_std=std_scaler.transform(X_train)\n",
        "X_test_std=std_scaler.transform(X_test)"
      ]
    },
    {
      "cell_type": "code",
      "execution_count": null,
      "metadata": {
        "colab": {
          "base_uri": "https://localhost:8080/"
        },
        "id": "hKptlGMBdRH7",
        "outputId": "210ff7ea-4814-48d4-8b75-5b87d23cb33f"
      },
      "outputs": [
        {
          "output_type": "stream",
          "name": "stderr",
          "text": [
            "/usr/local/lib/python3.7/dist-packages/sklearn/linear_model/_logistic.py:818: ConvergenceWarning: lbfgs failed to converge (status=1):\n",
            "STOP: TOTAL NO. of ITERATIONS REACHED LIMIT.\n",
            "\n",
            "Increase the number of iterations (max_iter) or scale the data as shown in:\n",
            "    https://scikit-learn.org/stable/modules/preprocessing.html\n",
            "Please also refer to the documentation for alternative solver options:\n",
            "    https://scikit-learn.org/stable/modules/linear_model.html#logistic-regression\n",
            "  extra_warning_msg=_LOGISTIC_SOLVER_CONVERGENCE_MSG,\n"
          ]
        },
        {
          "output_type": "stream",
          "name": "stdout",
          "text": [
            "Modelo LogisticRegression:\n",
            "Accuracy:85.33%\n",
            "Precision:85.56%\n",
            "Recall:84.62%\n",
            "F1_score:85.08%\n",
            "Modelo KNeighborsClassifier:\n",
            "Accuracy:58.70%\n",
            "Precision:60.56%\n",
            "Recall:47.25%\n",
            "F1_score:53.09%\n",
            "Modelo DecisionTreeClassifier:\n",
            "Accuracy:80.98%\n",
            "Precision:84.15%\n",
            "Recall:75.82%\n",
            "F1_score:79.77%\n",
            "Modelo RandomForestClassifier:\n",
            "Accuracy:86.41%\n",
            "Precision:88.37%\n",
            "Recall:83.52%\n",
            "F1_score:85.88%\n",
            "Modelo GaussianNB:\n",
            "Accuracy:84.24%\n",
            "Precision:86.05%\n",
            "Recall:81.32%\n",
            "F1_score:83.62%\n"
          ]
        }
      ],
      "source": [
        "\n",
        "for nome_modelo, modelo in modelos.items():\n",
        "    #treinar\n",
        "    modelo.fit(X_train, y_train)\n",
        "    #testar\n",
        "    previsao = modelo.predict(X_test)\n",
        "    print(avaliar_modelo(nome_modelo, y_test, previsao))"
      ]
    },
    {
      "cell_type": "markdown",
      "metadata": {
        "id": "32y_E2baleRl"
      },
      "source": [
        "### Ajustes no Melhor Modelo\n"
      ]
    },
    {
      "cell_type": "code",
      "source": [
        "print(modelo_rfc.feature_importances_)"
      ],
      "metadata": {
        "colab": {
          "base_uri": "https://localhost:8080/"
        },
        "id": "u1yuWaetC9cR",
        "outputId": "677507d9-7f58-4463-9c53-2c8a46820dd5"
      },
      "execution_count": null,
      "outputs": [
        {
          "output_type": "stream",
          "name": "stdout",
          "text": [
            "[0.07852103 0.06097381 0.07343142 0.01112181 0.08872924 0.11541052\n",
            " 0.01912045 0.02030657 0.05681292 0.05045394 0.0807386  0.01620695\n",
            " 0.01353047 0.00718341 0.01441436 0.01119556 0.00905632 0.00671014\n",
            " 0.08853081 0.17755169]\n"
          ]
        }
      ]
    },
    {
      "cell_type": "code",
      "source": [
        "print(X_train.columns)"
      ],
      "metadata": {
        "colab": {
          "base_uri": "https://localhost:8080/"
        },
        "id": "Ye9ilk82DPD4",
        "outputId": "b50aa3ee-4bea-4c8e-d21f-83a82e1b11db"
      },
      "execution_count": null,
      "outputs": [
        {
          "output_type": "stream",
          "name": "stdout",
          "text": [
            "Index(['Age', 'RestingBP', 'Cholesterol', 'FastingBS', 'MaxHR', 'Oldpeak',\n",
            "       'Sex_F', 'Sex_M', 'ExerciseAngina_N', 'ExerciseAngina_Y',\n",
            "       'ChestPainType_ASY', 'ChestPainType_ATA', 'ChestPainType_NAP',\n",
            "       'ChestPainType_TA', 'RestingECG_LVH', 'RestingECG_Normal',\n",
            "       'RestingECG_ST', 'ST_Slope_Down', 'ST_Slope_Flat', 'ST_Slope_Up'],\n",
            "      dtype='object')\n"
          ]
        }
      ]
    },
    {
      "cell_type": "code",
      "source": [
        "importancia_features = pd.DataFrame(modelo_rfc.feature_importances_, X_train.columns)\n",
        "display(importancia_features)"
      ],
      "metadata": {
        "colab": {
          "base_uri": "https://localhost:8080/",
          "height": 676
        },
        "id": "s5Ed09ohDRjx",
        "outputId": "32ff90f3-9e26-4524-e759-17a5f5cdebed"
      },
      "execution_count": null,
      "outputs": [
        {
          "output_type": "display_data",
          "data": {
            "text/plain": [
              "                          0\n",
              "Age                0.078521\n",
              "RestingBP          0.060974\n",
              "Cholesterol        0.073431\n",
              "FastingBS          0.011122\n",
              "MaxHR              0.088729\n",
              "Oldpeak            0.115411\n",
              "Sex_F              0.019120\n",
              "Sex_M              0.020307\n",
              "ExerciseAngina_N   0.056813\n",
              "ExerciseAngina_Y   0.050454\n",
              "ChestPainType_ASY  0.080739\n",
              "ChestPainType_ATA  0.016207\n",
              "ChestPainType_NAP  0.013530\n",
              "ChestPainType_TA   0.007183\n",
              "RestingECG_LVH     0.014414\n",
              "RestingECG_Normal  0.011196\n",
              "RestingECG_ST      0.009056\n",
              "ST_Slope_Down      0.006710\n",
              "ST_Slope_Flat      0.088531\n",
              "ST_Slope_Up        0.177552"
            ],
            "text/html": [
              "\n",
              "  <div id=\"df-7275357a-f3a7-464d-94d2-2cd346f6404c\">\n",
              "    <div class=\"colab-df-container\">\n",
              "      <div>\n",
              "<style scoped>\n",
              "    .dataframe tbody tr th:only-of-type {\n",
              "        vertical-align: middle;\n",
              "    }\n",
              "\n",
              "    .dataframe tbody tr th {\n",
              "        vertical-align: top;\n",
              "    }\n",
              "\n",
              "    .dataframe thead th {\n",
              "        text-align: right;\n",
              "    }\n",
              "</style>\n",
              "<table border=\"1\" class=\"dataframe\">\n",
              "  <thead>\n",
              "    <tr style=\"text-align: right;\">\n",
              "      <th></th>\n",
              "      <th>0</th>\n",
              "    </tr>\n",
              "  </thead>\n",
              "  <tbody>\n",
              "    <tr>\n",
              "      <th>Age</th>\n",
              "      <td>0.078521</td>\n",
              "    </tr>\n",
              "    <tr>\n",
              "      <th>RestingBP</th>\n",
              "      <td>0.060974</td>\n",
              "    </tr>\n",
              "    <tr>\n",
              "      <th>Cholesterol</th>\n",
              "      <td>0.073431</td>\n",
              "    </tr>\n",
              "    <tr>\n",
              "      <th>FastingBS</th>\n",
              "      <td>0.011122</td>\n",
              "    </tr>\n",
              "    <tr>\n",
              "      <th>MaxHR</th>\n",
              "      <td>0.088729</td>\n",
              "    </tr>\n",
              "    <tr>\n",
              "      <th>Oldpeak</th>\n",
              "      <td>0.115411</td>\n",
              "    </tr>\n",
              "    <tr>\n",
              "      <th>Sex_F</th>\n",
              "      <td>0.019120</td>\n",
              "    </tr>\n",
              "    <tr>\n",
              "      <th>Sex_M</th>\n",
              "      <td>0.020307</td>\n",
              "    </tr>\n",
              "    <tr>\n",
              "      <th>ExerciseAngina_N</th>\n",
              "      <td>0.056813</td>\n",
              "    </tr>\n",
              "    <tr>\n",
              "      <th>ExerciseAngina_Y</th>\n",
              "      <td>0.050454</td>\n",
              "    </tr>\n",
              "    <tr>\n",
              "      <th>ChestPainType_ASY</th>\n",
              "      <td>0.080739</td>\n",
              "    </tr>\n",
              "    <tr>\n",
              "      <th>ChestPainType_ATA</th>\n",
              "      <td>0.016207</td>\n",
              "    </tr>\n",
              "    <tr>\n",
              "      <th>ChestPainType_NAP</th>\n",
              "      <td>0.013530</td>\n",
              "    </tr>\n",
              "    <tr>\n",
              "      <th>ChestPainType_TA</th>\n",
              "      <td>0.007183</td>\n",
              "    </tr>\n",
              "    <tr>\n",
              "      <th>RestingECG_LVH</th>\n",
              "      <td>0.014414</td>\n",
              "    </tr>\n",
              "    <tr>\n",
              "      <th>RestingECG_Normal</th>\n",
              "      <td>0.011196</td>\n",
              "    </tr>\n",
              "    <tr>\n",
              "      <th>RestingECG_ST</th>\n",
              "      <td>0.009056</td>\n",
              "    </tr>\n",
              "    <tr>\n",
              "      <th>ST_Slope_Down</th>\n",
              "      <td>0.006710</td>\n",
              "    </tr>\n",
              "    <tr>\n",
              "      <th>ST_Slope_Flat</th>\n",
              "      <td>0.088531</td>\n",
              "    </tr>\n",
              "    <tr>\n",
              "      <th>ST_Slope_Up</th>\n",
              "      <td>0.177552</td>\n",
              "    </tr>\n",
              "  </tbody>\n",
              "</table>\n",
              "</div>\n",
              "      <button class=\"colab-df-convert\" onclick=\"convertToInteractive('df-7275357a-f3a7-464d-94d2-2cd346f6404c')\"\n",
              "              title=\"Convert this dataframe to an interactive table.\"\n",
              "              style=\"display:none;\">\n",
              "        \n",
              "  <svg xmlns=\"http://www.w3.org/2000/svg\" height=\"24px\"viewBox=\"0 0 24 24\"\n",
              "       width=\"24px\">\n",
              "    <path d=\"M0 0h24v24H0V0z\" fill=\"none\"/>\n",
              "    <path d=\"M18.56 5.44l.94 2.06.94-2.06 2.06-.94-2.06-.94-.94-2.06-.94 2.06-2.06.94zm-11 1L8.5 8.5l.94-2.06 2.06-.94-2.06-.94L8.5 2.5l-.94 2.06-2.06.94zm10 10l.94 2.06.94-2.06 2.06-.94-2.06-.94-.94-2.06-.94 2.06-2.06.94z\"/><path d=\"M17.41 7.96l-1.37-1.37c-.4-.4-.92-.59-1.43-.59-.52 0-1.04.2-1.43.59L10.3 9.45l-7.72 7.72c-.78.78-.78 2.05 0 2.83L4 21.41c.39.39.9.59 1.41.59.51 0 1.02-.2 1.41-.59l7.78-7.78 2.81-2.81c.8-.78.8-2.07 0-2.86zM5.41 20L4 18.59l7.72-7.72 1.47 1.35L5.41 20z\"/>\n",
              "  </svg>\n",
              "      </button>\n",
              "      \n",
              "  <style>\n",
              "    .colab-df-container {\n",
              "      display:flex;\n",
              "      flex-wrap:wrap;\n",
              "      gap: 12px;\n",
              "    }\n",
              "\n",
              "    .colab-df-convert {\n",
              "      background-color: #E8F0FE;\n",
              "      border: none;\n",
              "      border-radius: 50%;\n",
              "      cursor: pointer;\n",
              "      display: none;\n",
              "      fill: #1967D2;\n",
              "      height: 32px;\n",
              "      padding: 0 0 0 0;\n",
              "      width: 32px;\n",
              "    }\n",
              "\n",
              "    .colab-df-convert:hover {\n",
              "      background-color: #E2EBFA;\n",
              "      box-shadow: 0px 1px 2px rgba(60, 64, 67, 0.3), 0px 1px 3px 1px rgba(60, 64, 67, 0.15);\n",
              "      fill: #174EA6;\n",
              "    }\n",
              "\n",
              "    [theme=dark] .colab-df-convert {\n",
              "      background-color: #3B4455;\n",
              "      fill: #D2E3FC;\n",
              "    }\n",
              "\n",
              "    [theme=dark] .colab-df-convert:hover {\n",
              "      background-color: #434B5C;\n",
              "      box-shadow: 0px 1px 3px 1px rgba(0, 0, 0, 0.15);\n",
              "      filter: drop-shadow(0px 1px 2px rgba(0, 0, 0, 0.3));\n",
              "      fill: #FFFFFF;\n",
              "    }\n",
              "  </style>\n",
              "\n",
              "      <script>\n",
              "        const buttonEl =\n",
              "          document.querySelector('#df-7275357a-f3a7-464d-94d2-2cd346f6404c button.colab-df-convert');\n",
              "        buttonEl.style.display =\n",
              "          google.colab.kernel.accessAllowed ? 'block' : 'none';\n",
              "\n",
              "        async function convertToInteractive(key) {\n",
              "          const element = document.querySelector('#df-7275357a-f3a7-464d-94d2-2cd346f6404c');\n",
              "          const dataTable =\n",
              "            await google.colab.kernel.invokeFunction('convertToInteractive',\n",
              "                                                     [key], {});\n",
              "          if (!dataTable) return;\n",
              "\n",
              "          const docLinkHtml = 'Like what you see? Visit the ' +\n",
              "            '<a target=\"_blank\" href=https://colab.research.google.com/notebooks/data_table.ipynb>data table notebook</a>'\n",
              "            + ' to learn more about interactive tables.';\n",
              "          element.innerHTML = '';\n",
              "          dataTable['output_type'] = 'display_data';\n",
              "          await google.colab.output.renderOutput(dataTable, element);\n",
              "          const docLink = document.createElement('div');\n",
              "          docLink.innerHTML = docLinkHtml;\n",
              "          element.appendChild(docLink);\n",
              "        }\n",
              "      </script>\n",
              "    </div>\n",
              "  </div>\n",
              "  "
            ]
          },
          "metadata": {}
        }
      ]
    },
    {
      "cell_type": "code",
      "source": [
        "importancia_features = importancia_features.sort_values(by=0, ascending=False)\n",
        "display(importancia_features)"
      ],
      "metadata": {
        "colab": {
          "base_uri": "https://localhost:8080/",
          "height": 676
        },
        "id": "bXmFxdgRDZQ4",
        "outputId": "cb21996b-c2bb-44ed-cf23-ba235cf0db3b"
      },
      "execution_count": null,
      "outputs": [
        {
          "output_type": "display_data",
          "data": {
            "text/plain": [
              "                          0\n",
              "ST_Slope_Up        0.177552\n",
              "Oldpeak            0.115411\n",
              "MaxHR              0.088729\n",
              "ST_Slope_Flat      0.088531\n",
              "ChestPainType_ASY  0.080739\n",
              "Age                0.078521\n",
              "Cholesterol        0.073431\n",
              "RestingBP          0.060974\n",
              "ExerciseAngina_N   0.056813\n",
              "ExerciseAngina_Y   0.050454\n",
              "Sex_M              0.020307\n",
              "Sex_F              0.019120\n",
              "ChestPainType_ATA  0.016207\n",
              "RestingECG_LVH     0.014414\n",
              "ChestPainType_NAP  0.013530\n",
              "RestingECG_Normal  0.011196\n",
              "FastingBS          0.011122\n",
              "RestingECG_ST      0.009056\n",
              "ChestPainType_TA   0.007183\n",
              "ST_Slope_Down      0.006710"
            ],
            "text/html": [
              "\n",
              "  <div id=\"df-766484dc-82fc-439b-97a9-cc0ff8f73d80\">\n",
              "    <div class=\"colab-df-container\">\n",
              "      <div>\n",
              "<style scoped>\n",
              "    .dataframe tbody tr th:only-of-type {\n",
              "        vertical-align: middle;\n",
              "    }\n",
              "\n",
              "    .dataframe tbody tr th {\n",
              "        vertical-align: top;\n",
              "    }\n",
              "\n",
              "    .dataframe thead th {\n",
              "        text-align: right;\n",
              "    }\n",
              "</style>\n",
              "<table border=\"1\" class=\"dataframe\">\n",
              "  <thead>\n",
              "    <tr style=\"text-align: right;\">\n",
              "      <th></th>\n",
              "      <th>0</th>\n",
              "    </tr>\n",
              "  </thead>\n",
              "  <tbody>\n",
              "    <tr>\n",
              "      <th>ST_Slope_Up</th>\n",
              "      <td>0.177552</td>\n",
              "    </tr>\n",
              "    <tr>\n",
              "      <th>Oldpeak</th>\n",
              "      <td>0.115411</td>\n",
              "    </tr>\n",
              "    <tr>\n",
              "      <th>MaxHR</th>\n",
              "      <td>0.088729</td>\n",
              "    </tr>\n",
              "    <tr>\n",
              "      <th>ST_Slope_Flat</th>\n",
              "      <td>0.088531</td>\n",
              "    </tr>\n",
              "    <tr>\n",
              "      <th>ChestPainType_ASY</th>\n",
              "      <td>0.080739</td>\n",
              "    </tr>\n",
              "    <tr>\n",
              "      <th>Age</th>\n",
              "      <td>0.078521</td>\n",
              "    </tr>\n",
              "    <tr>\n",
              "      <th>Cholesterol</th>\n",
              "      <td>0.073431</td>\n",
              "    </tr>\n",
              "    <tr>\n",
              "      <th>RestingBP</th>\n",
              "      <td>0.060974</td>\n",
              "    </tr>\n",
              "    <tr>\n",
              "      <th>ExerciseAngina_N</th>\n",
              "      <td>0.056813</td>\n",
              "    </tr>\n",
              "    <tr>\n",
              "      <th>ExerciseAngina_Y</th>\n",
              "      <td>0.050454</td>\n",
              "    </tr>\n",
              "    <tr>\n",
              "      <th>Sex_M</th>\n",
              "      <td>0.020307</td>\n",
              "    </tr>\n",
              "    <tr>\n",
              "      <th>Sex_F</th>\n",
              "      <td>0.019120</td>\n",
              "    </tr>\n",
              "    <tr>\n",
              "      <th>ChestPainType_ATA</th>\n",
              "      <td>0.016207</td>\n",
              "    </tr>\n",
              "    <tr>\n",
              "      <th>RestingECG_LVH</th>\n",
              "      <td>0.014414</td>\n",
              "    </tr>\n",
              "    <tr>\n",
              "      <th>ChestPainType_NAP</th>\n",
              "      <td>0.013530</td>\n",
              "    </tr>\n",
              "    <tr>\n",
              "      <th>RestingECG_Normal</th>\n",
              "      <td>0.011196</td>\n",
              "    </tr>\n",
              "    <tr>\n",
              "      <th>FastingBS</th>\n",
              "      <td>0.011122</td>\n",
              "    </tr>\n",
              "    <tr>\n",
              "      <th>RestingECG_ST</th>\n",
              "      <td>0.009056</td>\n",
              "    </tr>\n",
              "    <tr>\n",
              "      <th>ChestPainType_TA</th>\n",
              "      <td>0.007183</td>\n",
              "    </tr>\n",
              "    <tr>\n",
              "      <th>ST_Slope_Down</th>\n",
              "      <td>0.006710</td>\n",
              "    </tr>\n",
              "  </tbody>\n",
              "</table>\n",
              "</div>\n",
              "      <button class=\"colab-df-convert\" onclick=\"convertToInteractive('df-766484dc-82fc-439b-97a9-cc0ff8f73d80')\"\n",
              "              title=\"Convert this dataframe to an interactive table.\"\n",
              "              style=\"display:none;\">\n",
              "        \n",
              "  <svg xmlns=\"http://www.w3.org/2000/svg\" height=\"24px\"viewBox=\"0 0 24 24\"\n",
              "       width=\"24px\">\n",
              "    <path d=\"M0 0h24v24H0V0z\" fill=\"none\"/>\n",
              "    <path d=\"M18.56 5.44l.94 2.06.94-2.06 2.06-.94-2.06-.94-.94-2.06-.94 2.06-2.06.94zm-11 1L8.5 8.5l.94-2.06 2.06-.94-2.06-.94L8.5 2.5l-.94 2.06-2.06.94zm10 10l.94 2.06.94-2.06 2.06-.94-2.06-.94-.94-2.06-.94 2.06-2.06.94z\"/><path d=\"M17.41 7.96l-1.37-1.37c-.4-.4-.92-.59-1.43-.59-.52 0-1.04.2-1.43.59L10.3 9.45l-7.72 7.72c-.78.78-.78 2.05 0 2.83L4 21.41c.39.39.9.59 1.41.59.51 0 1.02-.2 1.41-.59l7.78-7.78 2.81-2.81c.8-.78.8-2.07 0-2.86zM5.41 20L4 18.59l7.72-7.72 1.47 1.35L5.41 20z\"/>\n",
              "  </svg>\n",
              "      </button>\n",
              "      \n",
              "  <style>\n",
              "    .colab-df-container {\n",
              "      display:flex;\n",
              "      flex-wrap:wrap;\n",
              "      gap: 12px;\n",
              "    }\n",
              "\n",
              "    .colab-df-convert {\n",
              "      background-color: #E8F0FE;\n",
              "      border: none;\n",
              "      border-radius: 50%;\n",
              "      cursor: pointer;\n",
              "      display: none;\n",
              "      fill: #1967D2;\n",
              "      height: 32px;\n",
              "      padding: 0 0 0 0;\n",
              "      width: 32px;\n",
              "    }\n",
              "\n",
              "    .colab-df-convert:hover {\n",
              "      background-color: #E2EBFA;\n",
              "      box-shadow: 0px 1px 2px rgba(60, 64, 67, 0.3), 0px 1px 3px 1px rgba(60, 64, 67, 0.15);\n",
              "      fill: #174EA6;\n",
              "    }\n",
              "\n",
              "    [theme=dark] .colab-df-convert {\n",
              "      background-color: #3B4455;\n",
              "      fill: #D2E3FC;\n",
              "    }\n",
              "\n",
              "    [theme=dark] .colab-df-convert:hover {\n",
              "      background-color: #434B5C;\n",
              "      box-shadow: 0px 1px 3px 1px rgba(0, 0, 0, 0.15);\n",
              "      filter: drop-shadow(0px 1px 2px rgba(0, 0, 0, 0.3));\n",
              "      fill: #FFFFFF;\n",
              "    }\n",
              "  </style>\n",
              "\n",
              "      <script>\n",
              "        const buttonEl =\n",
              "          document.querySelector('#df-766484dc-82fc-439b-97a9-cc0ff8f73d80 button.colab-df-convert');\n",
              "        buttonEl.style.display =\n",
              "          google.colab.kernel.accessAllowed ? 'block' : 'none';\n",
              "\n",
              "        async function convertToInteractive(key) {\n",
              "          const element = document.querySelector('#df-766484dc-82fc-439b-97a9-cc0ff8f73d80');\n",
              "          const dataTable =\n",
              "            await google.colab.kernel.invokeFunction('convertToInteractive',\n",
              "                                                     [key], {});\n",
              "          if (!dataTable) return;\n",
              "\n",
              "          const docLinkHtml = 'Like what you see? Visit the ' +\n",
              "            '<a target=\"_blank\" href=https://colab.research.google.com/notebooks/data_table.ipynb>data table notebook</a>'\n",
              "            + ' to learn more about interactive tables.';\n",
              "          element.innerHTML = '';\n",
              "          dataTable['output_type'] = 'display_data';\n",
              "          await google.colab.output.renderOutput(dataTable, element);\n",
              "          const docLink = document.createElement('div');\n",
              "          docLink.innerHTML = docLinkHtml;\n",
              "          element.appendChild(docLink);\n",
              "        }\n",
              "      </script>\n",
              "    </div>\n",
              "  </div>\n",
              "  "
            ]
          },
          "metadata": {}
        }
      ]
    },
    {
      "cell_type": "code",
      "source": [
        "plt.figure(figsize=(15,5))\n",
        "ax = sns.barplot(x=importancia_features.index, y=importancia_features[0], palette='pastel')\n",
        "ax.tick_params(axis='x', rotation=90)"
      ],
      "metadata": {
        "colab": {
          "base_uri": "https://localhost:8080/",
          "height": 409
        },
        "id": "BCRrL6YKDdTQ",
        "outputId": "b4b5a2c9-0d88-4a69-dd36-04b4bf60b81c"
      },
      "execution_count": null,
      "outputs": [
        {
          "output_type": "display_data",
          "data": {
            "text/plain": [
              "<Figure size 1080x360 with 1 Axes>"
            ],
            "image/png": "[encoded data removed]"
          },
          "metadata": {
            "needs_background": "light"
          }
        }
      ]
    },
    {
      "cell_type": "markdown",
      "metadata": {
        "id": "lCA_8oUYsbct"
      },
      "source": [
        "### Modelo com melhor resultado:\n",
        "\n",
        "* Modelo RandomForestClassifier:\n",
        "    - Accuracy: 86.41% (accuracy é a fração de previsões que nosso modelo acertou)\n",
        "    - Precision: 88.37% (proporção de identificações positivas que estava realmente correta)\n",
        "    - Recall: 83.52% (proporção de positivos reais foi identificada corretamente)\n",
        "    - F1_score: 85.88% (F1 atinge seu melhor valor em 1 e pior escore em 0)"
      ]
    }
  ],
  "metadata": {
    "colab": {
      "provenance": []
    },
    "kernelspec": {
      "display_name": "Python 3",
      "name": "python3"
    },
    "language_info": {
      "name": "python"
    }
  },
  "nbformat": 4,
  "nbformat_minor": 0
}